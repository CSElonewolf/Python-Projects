{
 "cells": [
  {
   "cell_type": "code",
   "execution_count": 15,
   "id": "efae5e64",
   "metadata": {},
   "outputs": [
    {
     "name": "stdout",
     "output_type": "stream",
     "text": [
      "Requirement already satisfied: pandas in c:\\python37.9\\lib\\site-packages (1.3.2)\n",
      "Requirement already satisfied: numpy>=1.17.3 in c:\\python37.9\\lib\\site-packages (from pandas) (1.19.5)\n",
      "Requirement already satisfied: pytz>=2017.3 in c:\\python37.9\\lib\\site-packages (from pandas) (2020.5)\n",
      "Requirement already satisfied: python-dateutil>=2.7.3 in c:\\python37.9\\lib\\site-packages (from pandas) (2.8.2)\n",
      "Requirement already satisfied: six>=1.5 in c:\\python37.9\\lib\\site-packages (from python-dateutil>=2.7.3->pandas) (1.15.0)\n"
     ]
    }
   ],
   "source": [
    "!pip install pandas \n"
   ]
  },
  {
   "cell_type": "code",
   "execution_count": 5,
   "id": "dfd737c9",
   "metadata": {},
   "outputs": [],
   "source": [
    "import os \n",
    "import pandas as pd "
   ]
  },
  {
   "cell_type": "code",
   "execution_count": 3,
   "id": "ae4ae849",
   "metadata": {},
   "outputs": [
    {
     "data": {
      "text/plain": [
       "'C:\\\\Users\\\\RPH\\\\Desktop\\\\Python-Projects\\\\7. Build a Data Science Pipeline\\\\data'"
      ]
     },
     "execution_count": 3,
     "metadata": {},
     "output_type": "execute_result"
    }
   ],
   "source": [
    "cwd = os.getcwd()\n",
    "DIR_NAM = os.path.dirname(os.getcwd())\n",
    "BASE_DIR = os.path.join(DIR_NAM,'7. Build a Data Science Pipeline')\n",
    "DATA_DIR = os.path.join(BASE_DIR,'data')\n",
    "DATA_DIR"
   ]
  },
  {
   "cell_type": "code",
   "execution_count": 4,
   "id": "6b3f32fa",
   "metadata": {},
   "outputs": [
    {
     "data": {
      "text/plain": [
       "['2001.csv',\n",
       " '2002.csv',\n",
       " '2003.csv',\n",
       " '2004.csv',\n",
       " '2005.csv',\n",
       " '2006.csv',\n",
       " '2007.csv',\n",
       " '2008.csv',\n",
       " '2010.csv',\n",
       " '2011.csv',\n",
       " '2012.csv',\n",
       " '2013.csv',\n",
       " '2014.csv',\n",
       " '2015.csv']"
      ]
     },
     "execution_count": 4,
     "metadata": {},
     "output_type": "execute_result"
    }
   ],
   "source": [
    "os.listdir(DATA_DIR)"
   ]
  },
  {
   "cell_type": "code",
   "execution_count": 14,
   "id": "6b194244",
   "metadata": {},
   "outputs": [
    {
     "data": {
      "text/html": [
       "<div>\n",
       "<style scoped>\n",
       "    .dataframe tbody tr th:only-of-type {\n",
       "        vertical-align: middle;\n",
       "    }\n",
       "\n",
       "    .dataframe tbody tr th {\n",
       "        vertical-align: top;\n",
       "    }\n",
       "\n",
       "    .dataframe thead th {\n",
       "        text-align: right;\n",
       "    }\n",
       "</style>\n",
       "<table border=\"1\" class=\"dataframe\">\n",
       "  <thead>\n",
       "    <tr style=\"text-align: right;\">\n",
       "      <th></th>\n",
       "      <th>category</th>\n",
       "      <th>title</th>\n",
       "    </tr>\n",
       "  </thead>\n",
       "  <tbody>\n",
       "    <tr>\n",
       "      <th>0</th>\n",
       "      <td>Action</td>\n",
       "      <td>Action Movie</td>\n",
       "    </tr>\n",
       "    <tr>\n",
       "      <th>1</th>\n",
       "      <td>thriller</td>\n",
       "      <td>Thriller Movie</td>\n",
       "    </tr>\n",
       "    <tr>\n",
       "      <th>2</th>\n",
       "      <td>horror</td>\n",
       "      <td>Horror Movie</td>\n",
       "    </tr>\n",
       "  </tbody>\n",
       "</table>\n",
       "</div>"
      ],
      "text/plain": [
       "   category           title\n",
       "0    Action    Action Movie\n",
       "1  thriller  Thriller Movie\n",
       "2    horror    Horror Movie"
      ]
     },
     "execution_count": 14,
     "metadata": {},
     "output_type": "execute_result"
    }
   ],
   "source": [
    "my_items = [{'category':'Action','title':'Action Movie'},{'category':'thriller','title':'Thriller Movie'},{'category':'horror','title':'Horror Movie'}]\n",
    "\n",
    "\n",
    "df = pd.DataFrame(my_items)\n",
    "df"
   ]
  },
  {
   "cell_type": "code",
   "execution_count": 13,
   "id": "45aeb3dd",
   "metadata": {},
   "outputs": [
    {
     "data": {
      "text/plain": [
       "0      Action\n",
       "1    thriller\n",
       "2      horror\n",
       "Name: category, dtype: object"
      ]
     },
     "execution_count": 13,
     "metadata": {},
     "output_type": "execute_result"
    }
   ],
   "source": [
    "df['category']"
   ]
  },
  {
   "cell_type": "code",
   "execution_count": 17,
   "id": "0a6e999e",
   "metadata": {},
   "outputs": [
    {
     "data": {
      "text/plain": [
       "category          horror\n",
       "title       Horror Movie\n",
       "Name: 2, dtype: object"
      ]
     },
     "execution_count": 17,
     "metadata": {},
     "output_type": "execute_result"
    }
   ],
   "source": [
    "# to grab data index wise \n",
    "df.iloc[2]"
   ]
  },
  {
   "cell_type": "code",
   "execution_count": 24,
   "id": "8a44b4e9",
   "metadata": {},
   "outputs": [
    {
     "data": {
      "text/plain": [
       "'C:\\\\Users\\\\RPH\\\\Desktop\\\\Python-Projects\\\\7. Build a Data Science Pipeline\\\\data\\\\2019.csv'"
      ]
     },
     "execution_count": 24,
     "metadata": {},
     "output_type": "execute_result"
    }
   ],
   "source": [
    "my_data = os.path.join(DATA_DIR,'2019.csv')\n",
    "my_data\n",
    "# print(os.path.exists(my_data))"
   ]
  },
  {
   "cell_type": "code",
   "execution_count": 25,
   "id": "4468d694",
   "metadata": {},
   "outputs": [
    {
     "data": {
      "text/html": [
       "<div>\n",
       "<style scoped>\n",
       "    .dataframe tbody tr th:only-of-type {\n",
       "        vertical-align: middle;\n",
       "    }\n",
       "\n",
       "    .dataframe tbody tr th {\n",
       "        vertical-align: top;\n",
       "    }\n",
       "\n",
       "    .dataframe thead th {\n",
       "        text-align: right;\n",
       "    }\n",
       "</style>\n",
       "<table border=\"1\" class=\"dataframe\">\n",
       "  <thead>\n",
       "    <tr style=\"text-align: right;\">\n",
       "      <th></th>\n",
       "      <th>Rank</th>\n",
       "      <th>Release Group</th>\n",
       "      <th>Worldwide</th>\n",
       "      <th>Domestic</th>\n",
       "      <th>%</th>\n",
       "      <th>Foreign</th>\n",
       "      <th>%.1</th>\n",
       "    </tr>\n",
       "  </thead>\n",
       "  <tbody>\n",
       "    <tr>\n",
       "      <th>0</th>\n",
       "      <td>1</td>\n",
       "      <td>Avengers: Endgame</td>\n",
       "      <td>$2,797,501,328</td>\n",
       "      <td>$858,373,000</td>\n",
       "      <td>30.7%</td>\n",
       "      <td>$1,939,128,328</td>\n",
       "      <td>69.3%</td>\n",
       "    </tr>\n",
       "    <tr>\n",
       "      <th>1</th>\n",
       "      <td>2</td>\n",
       "      <td>The Lion King</td>\n",
       "      <td>$1,656,943,394</td>\n",
       "      <td>$543,638,043</td>\n",
       "      <td>32.8%</td>\n",
       "      <td>$1,113,305,351</td>\n",
       "      <td>67.2%</td>\n",
       "    </tr>\n",
       "    <tr>\n",
       "      <th>2</th>\n",
       "      <td>3</td>\n",
       "      <td>Frozen II</td>\n",
       "      <td>$1,450,026,933</td>\n",
       "      <td>$477,373,578</td>\n",
       "      <td>32.9%</td>\n",
       "      <td>$972,653,355</td>\n",
       "      <td>67.1%</td>\n",
       "    </tr>\n",
       "    <tr>\n",
       "      <th>3</th>\n",
       "      <td>4</td>\n",
       "      <td>Spider-Man: Far from Home</td>\n",
       "      <td>$1,131,927,996</td>\n",
       "      <td>$390,532,085</td>\n",
       "      <td>34.5%</td>\n",
       "      <td>$741,395,911</td>\n",
       "      <td>65.5%</td>\n",
       "    </tr>\n",
       "    <tr>\n",
       "      <th>4</th>\n",
       "      <td>5</td>\n",
       "      <td>Captain Marvel</td>\n",
       "      <td>$1,128,274,794</td>\n",
       "      <td>$426,829,839</td>\n",
       "      <td>37.8%</td>\n",
       "      <td>$701,444,955</td>\n",
       "      <td>62.2%</td>\n",
       "    </tr>\n",
       "    <tr>\n",
       "      <th>...</th>\n",
       "      <td>...</td>\n",
       "      <td>...</td>\n",
       "      <td>...</td>\n",
       "      <td>...</td>\n",
       "      <td>...</td>\n",
       "      <td>...</td>\n",
       "      <td>...</td>\n",
       "    </tr>\n",
       "    <tr>\n",
       "      <th>195</th>\n",
       "      <td>196</td>\n",
       "      <td>An Officer and a Spy</td>\n",
       "      <td>$18,878,658</td>\n",
       "      <td>-</td>\n",
       "      <td>-</td>\n",
       "      <td>$18,878,658</td>\n",
       "      <td>100%</td>\n",
       "    </tr>\n",
       "    <tr>\n",
       "      <th>196</th>\n",
       "      <td>197</td>\n",
       "      <td>Crayon Shin-chan: Honeymoon Hurricane - The Lo...</td>\n",
       "      <td>$18,738,951</td>\n",
       "      <td>-</td>\n",
       "      <td>-</td>\n",
       "      <td>$18,738,951</td>\n",
       "      <td>100%</td>\n",
       "    </tr>\n",
       "    <tr>\n",
       "      <th>197</th>\n",
       "      <td>198</td>\n",
       "      <td>Greta</td>\n",
       "      <td>$18,653,107</td>\n",
       "      <td>$10,532,219</td>\n",
       "      <td>56.5%</td>\n",
       "      <td>$8,120,888</td>\n",
       "      <td>43.5%</td>\n",
       "    </tr>\n",
       "    <tr>\n",
       "      <th>198</th>\n",
       "      <td>199</td>\n",
       "      <td>Peppa Celebrates Chinese New Year</td>\n",
       "      <td>$18,653,040</td>\n",
       "      <td>$131,225</td>\n",
       "      <td>0.7%</td>\n",
       "      <td>$18,521,815</td>\n",
       "      <td>99.3%</td>\n",
       "    </tr>\n",
       "    <tr>\n",
       "      <th>199</th>\n",
       "      <td>200</td>\n",
       "      <td>Black Christmas</td>\n",
       "      <td>$18,529,730</td>\n",
       "      <td>$10,429,730</td>\n",
       "      <td>56.3%</td>\n",
       "      <td>$8,100,000</td>\n",
       "      <td>43.7%</td>\n",
       "    </tr>\n",
       "  </tbody>\n",
       "</table>\n",
       "<p>200 rows × 7 columns</p>\n",
       "</div>"
      ],
      "text/plain": [
       "     Rank                                      Release Group       Worldwide  \\\n",
       "0       1                                  Avengers: Endgame  $2,797,501,328   \n",
       "1       2                                      The Lion King  $1,656,943,394   \n",
       "2       3                                          Frozen II  $1,450,026,933   \n",
       "3       4                          Spider-Man: Far from Home  $1,131,927,996   \n",
       "4       5                                     Captain Marvel  $1,128,274,794   \n",
       "..    ...                                                ...             ...   \n",
       "195   196                               An Officer and a Spy     $18,878,658   \n",
       "196   197  Crayon Shin-chan: Honeymoon Hurricane - The Lo...     $18,738,951   \n",
       "197   198                                              Greta     $18,653,107   \n",
       "198   199                  Peppa Celebrates Chinese New Year     $18,653,040   \n",
       "199   200                                    Black Christmas     $18,529,730   \n",
       "\n",
       "         Domestic      %         Foreign    %.1  \n",
       "0    $858,373,000  30.7%  $1,939,128,328  69.3%  \n",
       "1    $543,638,043  32.8%  $1,113,305,351  67.2%  \n",
       "2    $477,373,578  32.9%    $972,653,355  67.1%  \n",
       "3    $390,532,085  34.5%    $741,395,911  65.5%  \n",
       "4    $426,829,839  37.8%    $701,444,955  62.2%  \n",
       "..            ...    ...             ...    ...  \n",
       "195             -      -     $18,878,658   100%  \n",
       "196             -      -     $18,738,951   100%  \n",
       "197   $10,532,219  56.5%      $8,120,888  43.5%  \n",
       "198      $131,225   0.7%     $18,521,815  99.3%  \n",
       "199   $10,429,730  56.3%      $8,100,000  43.7%  \n",
       "\n",
       "[200 rows x 7 columns]"
      ]
     },
     "execution_count": 25,
     "metadata": {},
     "output_type": "execute_result"
    }
   ],
   "source": [
    "df2 = pd.read_csv(my_data)\n",
    "df2"
   ]
  },
  {
   "cell_type": "code",
   "execution_count": null,
   "id": "e110185a",
   "metadata": {},
   "outputs": [],
   "source": []
  },
  {
   "cell_type": "code",
   "execution_count": null,
   "id": "feaf8d25",
   "metadata": {},
   "outputs": [],
   "source": []
  },
  {
   "cell_type": "code",
   "execution_count": null,
   "id": "13d99848",
   "metadata": {},
   "outputs": [],
   "source": []
  },
  {
   "cell_type": "code",
   "execution_count": null,
   "id": "ad03f179",
   "metadata": {},
   "outputs": [],
   "source": []
  },
  {
   "cell_type": "code",
   "execution_count": null,
   "id": "78f051e0",
   "metadata": {},
   "outputs": [],
   "source": []
  },
  {
   "cell_type": "code",
   "execution_count": null,
   "id": "eba9ac27",
   "metadata": {},
   "outputs": [],
   "source": []
  },
  {
   "cell_type": "code",
   "execution_count": null,
   "id": "6dd7d5a0",
   "metadata": {},
   "outputs": [],
   "source": []
  },
  {
   "cell_type": "code",
   "execution_count": null,
   "id": "2604fc8e",
   "metadata": {},
   "outputs": [],
   "source": []
  },
  {
   "cell_type": "code",
   "execution_count": null,
   "id": "de670320",
   "metadata": {},
   "outputs": [],
   "source": []
  },
  {
   "cell_type": "code",
   "execution_count": null,
   "id": "e57baa0b",
   "metadata": {},
   "outputs": [],
   "source": []
  }
 ],
 "metadata": {
  "kernelspec": {
   "display_name": "Python 3 (ipykernel)",
   "language": "python",
   "name": "python3"
  },
  "language_info": {
   "codemirror_mode": {
    "name": "ipython",
    "version": 3
   },
   "file_extension": ".py",
   "mimetype": "text/x-python",
   "name": "python",
   "nbconvert_exporter": "python",
   "pygments_lexer": "ipython3",
   "version": "3.7.9"
  }
 },
 "nbformat": 4,
 "nbformat_minor": 5
}
