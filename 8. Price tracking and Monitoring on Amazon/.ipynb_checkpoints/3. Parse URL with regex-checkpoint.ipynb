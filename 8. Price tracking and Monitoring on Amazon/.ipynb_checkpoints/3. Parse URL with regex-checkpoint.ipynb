{
 "cells": [
  {
   "cell_type": "code",
   "execution_count": 1,
   "id": "c895eea2",
   "metadata": {},
   "outputs": [],
   "source": [
    "import requests\n",
    "from requests_html import HTML\n",
    "from selenium import webdriver \n",
    "from selenium.webdriver.chrome.options import Options\n",
    "import time "
   ]
  },
  {
   "cell_type": "code",
   "execution_count": 2,
   "id": "7b40300d",
   "metadata": {},
   "outputs": [],
   "source": [
    "options = Options()\n",
    "options.add_argument(\"--headless\")\n",
    "driver = webdriver.Chrome(options = options)"
   ]
  },
  {
   "cell_type": "code",
   "execution_count": 3,
   "id": "2356d89f",
   "metadata": {},
   "outputs": [],
   "source": [
    "categories = [\n",
    "    \"https://www.amazon.in/gp/bestsellers/baby/\",\n",
    "    \"https://www.amazon.in/gp/bestsellers/electronics\",\n",
    "    \"https://www.amazon.in/gp/bestsellers/books\"    \n",
    "]"
   ]
  },
  {
   "cell_type": "code",
   "execution_count": 4,
   "id": "60037237",
   "metadata": {},
   "outputs": [
    {
     "data": {
      "text/plain": [
       "'https://www.amazon.in/gp/bestsellers/baby/'"
      ]
     },
     "execution_count": 4,
     "metadata": {},
     "output_type": "execute_result"
    }
   ],
   "source": [
    "url = categories[0]\n",
    "url"
   ]
  },
  {
   "cell_type": "code",
   "execution_count": 5,
   "id": "b0b5ecb4",
   "metadata": {},
   "outputs": [],
   "source": [
    "driver.get(url)"
   ]
  },
  {
   "cell_type": "code",
   "execution_count": 6,
   "id": "822fbfa8",
   "metadata": {},
   "outputs": [],
   "source": [
    "body_el = driver.find_element_by_css_selector(\"body\")\n",
    "html_str = body_el.get_attribute(\"innerHTML\")\n"
   ]
  },
  {
   "cell_type": "code",
   "execution_count": 7,
   "id": "0253412e",
   "metadata": {},
   "outputs": [],
   "source": [
    "html_obj = HTML(html = html_str)"
   ]
  },
  {
   "cell_type": "code",
   "execution_count": 8,
   "id": "99c9bf0c",
   "metadata": {},
   "outputs": [],
   "source": [
    "new_links = [x for x in html_obj.links if x.startswith(\"/\") and \"product-reviews/\" not in x]"
   ]
  },
  {
   "cell_type": "code",
   "execution_count": 9,
   "id": "66db762b",
   "metadata": {},
   "outputs": [],
   "source": [
    "page_links = [f\"https://www.amazon.in{x}\" for x in new_links]"
   ]
  },
  {
   "cell_type": "code",
   "execution_count": 10,
   "id": "fa1565e9",
   "metadata": {},
   "outputs": [
    {
     "data": {
      "text/plain": [
       "['https://www.amazon.in/gp/customer-preferences/select-language/ref=topnav_lang?preferencesReturnUrl=%2Fgp%2Fbestsellers%2Fbaby%2F',\n",
       " 'https://www.amazon.in/Pampers-Active-Medium-Diapers-Count/dp/B077HRCSXR/ref=zg_bs_baby_50/259-5677475-3129152?_encoding=UTF8&psc=1&refRID=9Q81NYT4YCR8T830R2S6',\n",
       " 'https://www.amazon.in/LuvLap-Paraben-Free-Wipes-Fliptop/dp/B0817S14MZ/ref=zg_bs_baby_15/259-5677475-3129152?_encoding=UTF8&psc=1&refRID=9Q81NYT4YCR8T830R2S6',\n",
       " 'https://www.amazon.in/gp/yourstore/pym/ref=pd_pyml_rhf/259-5677475-3129152',\n",
       " 'https://www.amazon.in/gp/help/customer/display.html?nodeId=202075050&ref_=footer_iba',\n",
       " 'https://www.amazon.in/Gourmet-Specialty-Foods/b/?ie=UTF8&node=2454178031&ref_=nav_cs_grocery_aaabc3a9e1214048a9a0a73dcc968167',\n",
       " 'https://www.amazon.in/Himalaya-4004G-Baby-Powder-400g/dp/B008YD57OO/ref=zg_bs_baby_43/259-5677475-3129152?_encoding=UTF8&psc=1&refRID=9Q81NYT4YCR8T830R2S6',\n",
       " 'https://www.amazon.in/Baby-Care/b/?ie=UTF8&node=1953111031&ref_=sv_ba_4',\n",
       " 'https://www.amazon.in/Sebamed-Baby-Wash-Extra-400Ml/dp/B00VFJWGCA/ref=zg_bs_baby_33/259-5677475-3129152?_encoding=UTF8&psc=1&refRID=9Q81NYT4YCR8T830R2S6',\n",
       " 'https://www.amazon.in/Activity-Entertainment/b/?ie=UTF8&node=1953106031&ref_=sv_ba_6',\n",
       " 'https://www.amazon.in/Pampers-Diapers-Pants-Medium-Count/dp/B07DP24NSR/ref=zg_bs_baby_9/259-5677475-3129152?_encoding=UTF8&psc=1&refRID=9Q81NYT4YCR8T830R2S6',\n",
       " 'https://www.amazon.in/b/?node=2838698031&ld=AZINSOAYAFlyout&ref_=nav_AccountFlyout_sell',\n",
       " 'https://www.amazon.in/Books/b/?ie=UTF8&node=976389031&ref_=nav_cs_books_bc600d0d124d40a3909f96904182b45f',\n",
       " 'https://www.amazon.in/gcx/-/gfhz/?ref_=nav_cs_giftfinder_58f3a96b9747402884d8f629e69ebd28',\n",
       " 'https://www.amazon.in/gp/goldbox?ref_=nav_cs_gb_5bf06ae8328043a2beb2754f40a54c84',\n",
       " 'https://www.amazon.in/gp/browse.html?node=3704992031&ref_=nav_cs_hi_b183765d90844c95b998beab0377167a',\n",
       " 'https://www.amazon.in/Pampers-Active-Diapers-Small-Count/dp/B081QTNF7V/ref=zg_bs_baby_40/259-5677475-3129152?_encoding=UTF8&psc=1&refRID=9Q81NYT4YCR8T830R2S6',\n",
       " 'https://www.amazon.in/video-games/b/?ie=UTF8&node=976460031&ref_=nav_cs_video_games_6da073eac80d4cc188a31f2330c92387',\n",
       " 'https://www.amazon.in/Baby-Car-Seats-Accessories/b/?ie=UTF8&node=1953279031&ref_=sv_ba_10',\n",
       " 'https://www.amazon.in/gift-card-store/b/?ie=UTF8&node=3704982031&ref_=nav_cs_gc_35a9db0a7db34350a3d3cb851062984e',\n",
       " 'https://www.amazon.in/Pampers-Premium-Care-Diapers-Medium/dp/B07F2X8BHM/ref=zg_bs_baby_20/259-5677475-3129152?_encoding=UTF8&psc=1&refRID=9Q81NYT4YCR8T830R2S6',\n",
       " 'https://www.amazon.in/mobile-phones/b/?ie=UTF8&node=1389401031&ref_=nav_cs_mobiles_9292c6cb7b394d30b2467b8f631090a7',\n",
       " 'https://www.amazon.in/Himalaya-4003F-Baby-Lotion-400ml/dp/B008YD5500/ref=zg_bs_baby_24/259-5677475-3129152?_encoding=UTF8&psc=1&refRID=9Q81NYT4YCR8T830R2S6',\n",
       " 'https://www.amazon.in/Sports/b/?ie=UTF8&node=1984443031&ref_=nav_cs_sports_8a31b13c38f84bfba386a5c9d1b7615e',\n",
       " 'https://www.amazon.in/Nursing-Feeding/b/?ie=UTF8&node=1953448031&ref_=sv_ba_5',\n",
       " 'https://www.amazon.in/hz/wishlist/ls?triggerElementID=createList&ref_=nav_ListFlyout_navFlyout_createList_lv_redirect',\n",
       " 'https://www.amazon.in/gp/redirect.html?location=https%3A%2F%2Fwww.primevideo.com%2F%3Fref_%3D_apv&source=nav_linktree&token=13D4F90D28CD96790B94E6091246BB1B2AE9FA05',\n",
       " 'https://www.amazon.in/Pampers-New-Diapers-Pants-Count/dp/B07CXGJKXL/ref=zg_bs_baby_4/259-5677475-3129152?_encoding=UTF8&psc=1&refRID=9Q81NYT4YCR8T830R2S6',\n",
       " 'https://www.amazon.in/auto-deliveries/landing?ref_=nav_cs_sns_c630ba0feebb4081b3e5fbd2df39d065',\n",
       " 'https://www.amazon.in/Mamaearth-Percent-Natural-Berry-Toothpaste/dp/B07BGT4J55/ref=zg_bs_baby_45/259-5677475-3129152?_encoding=UTF8&psc=1&refRID=9Q81NYT4YCR8T830R2S6',\n",
       " 'https://www.amazon.in/gp/browse.html?node=8872558031&ref_=footer_cares',\n",
       " 'https://www.amazon.in/Nestle-Cerelac-Fortified-Cereal-Multigrain/dp/B00FPSNGDK/ref=zg_bs_baby_42/259-5677475-3129152?_encoding=UTF8&psc=1&refRID=9Q81NYT4YCR8T830R2S6',\n",
       " 'https://www.amazon.in/gp/BIT/theamazonapp/ref=footer_assistant_download_copy',\n",
       " 'https://www.amazon.in/Himalaya-Total-Pants-Diapers-Large/dp/B07MBYCL5Z/ref=zg_bs_baby_7/259-5677475-3129152?_encoding=UTF8&psc=1&refRID=9Q81NYT4YCR8T830R2S6',\n",
       " 'https://www.amazon.in/gp/help/customer/display.html?nodeId=201083470&ref_=footer_swc',\n",
       " 'https://www.amazon.in/Himalaya-Baby-Shampoo-400-ml/dp/B00H5NMNXC/ref=zg_bs_baby_22/259-5677475-3129152?_encoding=UTF8&psc=1&refRID=9Q81NYT4YCR8T830R2S6',\n",
       " 'https://www.amazon.in/Baby-Potty-Training-Step-Stools/b/?ie=UTF8&node=1953474031&ref_=sv_ba_8',\n",
       " 'https://www.amazon.in/computers-and-accessories/b/?ie=UTF8&node=976392031&ref_=nav_cs_pc_d99b175b1db64d5b968b67ba6e5a72a3',\n",
       " 'https://www.amazon.in/gp/yourstore?ref_=nav_AccountFlyout_recs',\n",
       " 'https://www.amazon.in/Himalaya-Baby-Cream-200ml/dp/B00QGEN6C8/ref=zg_bs_baby_38/259-5677475-3129152?_encoding=UTF8&psc=1&refRID=9Q81NYT4YCR8T830R2S6',\n",
       " 'https://www.amazon.in/Sebamed-Baby-Cleansing-Bar-150g/dp/B01KE8VPPG/ref=zg_bs_baby_30/259-5677475-3129152?_encoding=UTF8&psc=1&refRID=9Q81NYT4YCR8T830R2S6',\n",
       " 'https://www.amazon.in/prime?ref_=nav_cs_primelink_nonmember_2860122b63884a8688052dc445e46bd9',\n",
       " 'https://www.amazon.in/gp/css/order-history?ref_=nav_AccountFlyout_orders',\n",
       " 'https://www.amazon.in/gp/sva/dashboard?ref_=nav_cs_apay_fe0c735739554ca1a7cccf7c41941f2f',\n",
       " 'https://www.amazon.in/beauty/b/?ie=UTF8&node=1355016031&ref_=nav_cs_beauty_6ef19712270447e593a9ddf9a03604d8',\n",
       " 'https://www.amazon.in/Himalaya-Total-Pants-Diapers-Large/dp/B07MJ5PBNH/ref=zg_bs_baby_39/259-5677475-3129152?_encoding=UTF8&psc=1&refRID=9Q81NYT4YCR8T830R2S6',\n",
       " 'https://www.amazon.in/Pampers-Active-Baby-Diapers-Count/dp/B0781Z3BW6/ref=zg_bs_baby_21/259-5677475-3129152?_encoding=UTF8&psc=1&refRID=9Q81NYT4YCR8T830R2S6',\n",
       " 'https://www.amazon.in/Himalaya-Gentle-Baby-Bath-400ml/dp/B01N32GD33/ref=zg_bs_baby_28/259-5677475-3129152?_encoding=UTF8&psc=1&refRID=9Q81NYT4YCR8T830R2S6',\n",
       " 'https://www.amazon.in/SebaMed-Sebamed-Baby-Lotion-400ml/dp/B00VEEHIEM/ref=zg_bs_baby_34/259-5677475-3129152?_encoding=UTF8&psc=1&refRID=9Q81NYT4YCR8T830R2S6',\n",
       " 'https://www.amazon.in/Home-Kitchen/b/?ie=UTF8&node=976442031&ref_=nav_cs_home_5f0a1657ec2a4557a8233992829feaf3',\n",
       " 'https://www.amazon.in/electronics/b/?ie=UTF8&node=976419031&ref_=nav_cs_electronics_c5b70a82461a484189e700166599ce9f',\n",
       " 'https://www.amazon.in/Dabur-Lal-Tail-500-ml/dp/B00HVSRN8G/ref=zg_bs_baby_44/259-5677475-3129152?_encoding=UTF8&psc=1&refRID=9Q81NYT4YCR8T830R2S6',\n",
       " 'https://www.amazon.in/Littles-Diapers-Wetness-Indicator-Absorption/dp/B08J126QF9/ref=zg_bs_baby_11/259-5677475-3129152?_encoding=UTF8&psc=1&refRID=9Q81NYT4YCR8T830R2S6',\n",
       " 'https://www.amazon.in/b/?node=2838698031&ld=AZINSOANavDesktopFooter&ref_=nav_footer_sell',\n",
       " 'https://www.amazon.in/amazon-coupons/b/?_encoding=UTF8&node=10465704031&ref_=nav_cs_coupons_ce0af682243a4823874ce6cde7afb33e',\n",
       " 'https://www.amazon.in/Kindle-Store/b/?ie=UTF8&node=1571277031&ref_=nav_cs_kindle_books_fbe4f5e5a26f403a91203de3fe5ab05d',\n",
       " 'https://www.amazon.in/now?ref=footer_amznow',\n",
       " 'https://www.amazon.in/Baby-Safety-Equipments/b/?ie=UTF8&node=1953501031&ref_=sv_ba_11',\n",
       " 'https://www.amazon.in/gp/help/customer/display.html?nodeId=GDFU3JS5AL6SYHRD&ref_=footer_covid',\n",
       " 'https://www.amazon.in/gp/browse.html?node=6648217031&ref_=nav_cs_fashion_ad6f81eb5d474066bc9e5788a3c19a28',\n",
       " 'https://www.amazon.in/Supples-Baby-Wipes-Aloe-Vitamin/dp/B07QSLRRWS/ref=zg_bs_baby_14/259-5677475-3129152?_encoding=UTF8&psc=1&refRID=9Q81NYT4YCR8T830R2S6',\n",
       " 'https://www.amazon.in/music/prime?ref=footer_apm',\n",
       " 'https://www.amazon.in/gp/customer-preferences/select-language/ref=footer_lang?ie=UTF8&preferencesReturnUrl=%2Fgp%2Fbestsellers%2Fbaby%2F',\n",
       " 'https://www.amazon.in/Huggies-Premium-Pants-Extra-diaper/dp/B0866L2DS3/ref=zg_bs_baby_27/259-5677475-3129152?_encoding=UTF8&psc=1&refRID=9Q81NYT4YCR8T830R2S6',\n",
       " 'https://www.amazon.in/hz5/yourmembershipsandsubscriptions?ref_=nav_AccountFlyout_digital_subscriptions',\n",
       " 'https://www.amazon.in/gp/help/customer/display.html?nodeId=200507590&ref_=nav_cs_help_79404a52982a4d9d973cf256c713999e',\n",
       " 'https://www.amazon.in/gp/browse.html?node=4594605031&ref_=footer_smile',\n",
       " 'https://www.amazon.in/showroom?ref_=nav_ListFlyout_srm_your_desk_wl_in',\n",
       " 'https://www.amazon.in/Pampers-Diapers-Pants-X-Small-Count/dp/B07DP27JKB/ref=zg_bs_baby_18/259-5677475-3129152?_encoding=UTF8&psc=1&refRID=9Q81NYT4YCR8T830R2S6',\n",
       " 'https://www.amazon.in/Mee-Caring-Baby-Wipes-Aloe/dp/B00DRE0LQY/ref=zg_bs_baby_8/259-5677475-3129152?_encoding=UTF8&psc=1&refRID=9Q81NYT4YCR8T830R2S6',\n",
       " 'https://www.amazon.in/Baby/b/?ie=UTF8&node=1571274031&ref_=nav_cs_baby_b2a01e91bb824bf1875698a9cdcacb29',\n",
       " 'https://www.amazon.in/Diapering-Nappy-Changing/b/?ie=UTF8&node=1953345031&ref_=sv_ba_3',\n",
       " 'https://www.amazon.in/gp/bestsellers/?ref_=nav_cs_bestsellers_17d44cb01bd144359b81b1c10b84dd98',\n",
       " 'https://www.amazon.in/gp/css/order-history?ref_=nav_orders_first',\n",
       " 'https://www.amazon.in/gp/bestsellers/baby/?ie=UTF8&ref_=sv_ba_2',\n",
       " 'https://www.amazon.in/Huggies-Pants-Small-Diapers-Count/dp/B083F8DBNH/ref=zg_bs_baby_32/259-5677475-3129152?_encoding=UTF8&psc=1&refRID=9Q81NYT4YCR8T830R2S6',\n",
       " 'https://www.amazon.in/ref=footer_logo',\n",
       " 'https://www.amazon.in/b/?node=6637738031&ref_=nav_cs_amazonbasics_7b323e02d64042408aefc605ff4f5baf',\n",
       " 'https://www.amazon.in/Littles-Soft-Cleansing-Baby-Wipes/dp/B004X7545M/ref=zg_bs_baby_6/259-5677475-3129152?_encoding=UTF8&psc=1&refRID=9Q81NYT4YCR8T830R2S6',\n",
       " 'https://www.amazon.in/wishlist/universal?ref_=nav_ListFlyout_gno_listpop_uwl',\n",
       " 'https://www.amazon.in/MamyPoko-Pants-Absorb-Diapers-Monthly/dp/B07KFHSF5C/ref=zg_bs_baby_2/259-5677475-3129152?_encoding=UTF8&psc=1&refRID=9Q81NYT4YCR8T830R2S6',\n",
       " 'https://www.amazon.in/gp/help/customer/display.html?nodeId=200507590&ref_=footer_gw_m_b_he',\n",
       " 'https://www.amazon.in/Himalaya-Gift-Pack/dp/B075B7WDJY/ref=zg_bs_baby_49/259-5677475-3129152?_encoding=UTF8&psc=1&refRID=9Q81NYT4YCR8T830R2S6',\n",
       " 'https://www.amazon.in/gp/css/homepage.html?ref_=nav_AccountFlyout_ya',\n",
       " 'https://www.amazon.in/ref=nav_logo',\n",
       " 'https://www.amazon.in/Huggies-Wonder-Pants-Diapers-Extra/dp/B07M92GK39/ref=zg_bs_baby_1/259-5677475-3129152?_encoding=UTF8&psc=1&refRID=9Q81NYT4YCR8T830R2S6',\n",
       " 'https://www.amazon.in/b/?node=2838698031&ld=AZINSOANavDesktop&ref_=nav_cs_sell_22c5725860ed46a593b5f97a935ef723',\n",
       " 'https://www.amazon.in/Bey-Bee-Waterproof-Protector-Sheet/dp/B00VZQP6PM/ref=zg_bs_baby_23/259-5677475-3129152?_encoding=UTF8&psc=1&refRID=9Q81NYT4YCR8T830R2S6',\n",
       " 'https://www.amazon.in/gp/browse.html?node=21102587031&ref_=nav_ya_flyout_b2b_reg',\n",
       " 'https://www.amazon.in/baby-reg/homepage?ref_=nav_ListFlyout_gno_listpop_br',\n",
       " 'https://www.amazon.in/Pampers-Diapers-Pants-XX-Large-Count/dp/B07P226KH4/ref=zg_bs_baby_13/259-5677475-3129152?_encoding=UTF8&psc=1&refRID=9Q81NYT4YCR8T830R2S6',\n",
       " 'https://www.amazon.in/Huggies-Large-Size-Diapers-Counts/dp/B01EAFLG2G/ref=zg_bs_baby_25/259-5677475-3129152?_encoding=UTF8&psc=1&refRID=9Q81NYT4YCR8T830R2S6',\n",
       " 'https://www.amazon.in/Pampers-Premium-Care-Pants-Diapers/dp/B082LF4L7X/ref=zg_bs_baby_31/259-5677475-3129152?_encoding=UTF8&psc=1&refRID=9Q81NYT4YCR8T830R2S6',\n",
       " 'https://www.amazon.in/health-and-personal-care/b/?ie=UTF8&node=1350384031&ref_=nav_cs_hpc_a024fc7ba9174802831aed18bbebb33d',\n",
       " 'https://www.amazon.in/hz/mycd/myx?ref_=nav_AccountFlyout_myk',\n",
       " 'https://www.amazon.in/Strollers-Prams/b/?ie=UTF8&node=1953480031&ref_=sv_ba_9',\n",
       " 'https://www.amazon.in/gp/browse.html?node=6967393031&ref_=footer_mobapp',\n",
       " 'https://www.amazon.in/business?ref=footer_aingw',\n",
       " 'https://www.amazon.in/Toys-Games/b/?ie=UTF8&node=1350380031&ref_=nav_cs_toys_614bf387c5974fcdb69fb40fa2f95252',\n",
       " 'https://www.amazon.in/gp/video/ssoredirect/?ie=UTF8&pvp=%2F%3Fref_%3DDVM_CRS_IN_S_GW_SWM_DK_NP_BELBOT&ref_=nav_swm_DVM_CRS_IN_S_GW_SWM_DK_NP_BELBOT&pf_rd_p=198b3763-f5b1-4e26-b4df-3b60e7ce067d&pf_rd_s=nav-sitewide-msg&pf_rd_t=4201&pf_rd_i=navbar-4201&pf_rd_m=A21TJRUUN4KGV&pf_rd_r=9Q81NYT4YCR8T830R2S6',\n",
       " 'https://www.amazon.in/Pampers-Premium-Small-Diapers-Pants/dp/B07GQ35C62/ref=zg_bs_baby_36/259-5677475-3129152?_encoding=UTF8&psc=1&refRID=9Q81NYT4YCR8T830R2S6',\n",
       " 'https://www.amazon.in/Supples-Pants-Diapers-Medium-Count/dp/B07Q2F37JN/ref=zg_bs_baby_3/259-5677475-3129152?_encoding=UTF8&psc=1&refRID=9Q81NYT4YCR8T830R2S6',\n",
       " 'https://www.amazon.in/Mamaearth-Moisturizing-Baby-Bathing-Oatmeal/dp/B07Q2B5Z9D/ref=zg_bs_baby_41/259-5677475-3129152?_encoding=UTF8&psc=1&refRID=9Q81NYT4YCR8T830R2S6',\n",
       " 'https://www.amazon.in/Pampers-Premium-Care-Pants-Diapers/dp/B07DDXVK39/ref=zg_bs_baby_16/259-5677475-3129152?_encoding=UTF8&psc=1&refRID=9Q81NYT4YCR8T830R2S6',\n",
       " 'https://www.amazon.in/gp/primecentral?ref_=nav_AccountFlyout_prime',\n",
       " 'https://www.amazon.in/Pampers-Premium-Care-Diapers-Monthly/dp/B07F2HMCQ2/ref=zg_bs_baby_17/259-5677475-3129152?_encoding=UTF8&psc=1&refRID=9Q81NYT4YCR8T830R2S6',\n",
       " 'https://www.amazon.in/Pampers-Diapers-Pants-Small-Count/dp/B07DP27MF4/ref=zg_bs_baby_10/259-5677475-3129152?_encoding=UTF8&psc=1&refRID=9Q81NYT4YCR8T830R2S6',\n",
       " 'https://www.amazon.in/Himalaya-gentle-Wipes-72Napkins-packs/dp/B017VOMJ6A/ref=zg_bs_baby_19/259-5677475-3129152?_encoding=UTF8&psc=1&refRID=9Q81NYT4YCR8T830R2S6',\n",
       " 'https://www.amazon.in/Papimo-Pants-Diapers-Medium-Count/dp/B086N5L728/ref=zg_bs_baby_29/259-5677475-3129152?_encoding=UTF8&psc=1&refRID=9Q81NYT4YCR8T830R2S6',\n",
       " 'https://www.amazon.in/gp/new-releases/?ref_=nav_cs_newreleases_b9144c00866c4016b948d9b5b5215b45',\n",
       " 'https://www.amazon.in/Pet-Supplies/b/?ie=UTF8&node=2454181031&ref_=nav_cs_pets_57065eb9748646eb8c04675172dd0001',\n",
       " 'https://www.amazon.in/Himalaya-7003817-Baby-Powder-700g/dp/B07PSJW32L/ref=zg_bs_baby_26/259-5677475-3129152?_encoding=UTF8&psc=1&refRID=9Q81NYT4YCR8T830R2S6',\n",
       " 'https://www.amazon.in/Himalaya-Baby-Massage-Oil-500ml/dp/B00NOKRPD8/ref=zg_bs_baby_35/259-5677475-3129152?_encoding=UTF8&psc=1&refRID=9Q81NYT4YCR8T830R2S6',\n",
       " 'https://www.amazon.in/gp/help/customer/display.html?nodeId=200534380&ref_=footer_privacy',\n",
       " 'https://www.amazon.in/Baby-Nursery-Products/b/?ie=UTF8&node=1953359031&ref_=sv_ba_7',\n",
       " 'https://www.amazon.in/Pampers-Large-Diapers-Pants-Count/dp/B07CXFJT8Q/ref=zg_bs_baby_5/259-5677475-3129152?_encoding=UTF8&psc=1&refRID=9Q81NYT4YCR8T830R2S6',\n",
       " 'https://www.amazon.in/MamyPoko-Pants-Standard-Style-Diapers/dp/B00KAUFEEM/ref=zg_bs_baby_12/259-5677475-3129152?_encoding=UTF8&psc=1&refRID=9Q81NYT4YCR8T830R2S6',\n",
       " 'https://www.amazon.in/TEDIBAR-TDB5-Tedibar-2s-Pack/dp/B07ZJVXRCW/ref=zg_bs_baby_37/259-5677475-3129152?_encoding=UTF8&psc=1&refRID=9Q81NYT4YCR8T830R2S6',\n",
       " 'https://www.amazon.in/international-baby-products/b/?ie=UTF8&node=8483397031&ref_=sv_ba_12',\n",
       " 'https://www.amazon.in/Pampers-Active-Large-Diapers-Count/dp/B077HV19LS/ref=zg_bs_baby_48/259-5677475-3129152?_encoding=UTF8&psc=1&refRID=9Q81NYT4YCR8T830R2S6',\n",
       " 'https://www.amazon.in/gp/help/customer/display.html?nodeId=200545940&ref_=footer_cou',\n",
       " 'https://www.amazon.in/Car-Motorbike-Store/b/?ie=UTF8&node=4772060031&ref_=nav_cs_automotive_75137ca568f6495387a781885869ac30',\n",
       " 'https://www.amazon.in/hz/wishlist/ls?requiresSignIn=1&ref_=nav_AccountFlyout_wl',\n",
       " 'https://www.amazon.in/baby-reg/homepage/?_encoding=UTF8&ref_=sv_ba_1',\n",
       " 'https://www.amazon.in/discover/?ref_=nav_ListFlyout_sbl',\n",
       " 'https://www.amazon.in/Pampers-Premium-Care-Diapers-Count/dp/B082LDLPR9/ref=zg_bs_baby_47/259-5677475-3129152?_encoding=UTF8&psc=1&refRID=9Q81NYT4YCR8T830R2S6',\n",
       " 'https://www.amazon.in/SebaMed-Sebamed-Childrens-Shampoo-500ml/dp/B00VFJ6FEU/ref=zg_bs_baby_46/259-5677475-3129152?_encoding=UTF8&psc=1&refRID=9Q81NYT4YCR8T830R2S6',\n",
       " 'https://www.amazon.in/Baby/b/?ie=UTF8&node=1571274031&ref_=topnav_storetab_ba',\n",
       " 'https://www.amazon.in/gp/css/returns/homepage.html?ref_=footer_hy_f_4',\n",
       " 'https://www.amazon.in/gp/css/homepage.html?ref_=footer_ya',\n",
       " 'https://www.amazon.in/auto-deliveries?ref_=nav_AccountFlyout_sns']"
      ]
     },
     "execution_count": 10,
     "metadata": {},
     "output_type": "execute_result"
    }
   ],
   "source": [
    "page_links"
   ]
  },
  {
   "cell_type": "code",
   "execution_count": 11,
   "id": "8c61a8be",
   "metadata": {},
   "outputs": [],
   "source": [
    "def scrape_product_page(link,title_lookup = \"#productTitle\",price_lookup = \"#priceblock_ourprice\"):\n",
    "    driver.get(link)\n",
    "    time.sleep(1.2)\n",
    "    body_el = driver.find_element_by_css_selector(\"body\")\n",
    "    html_str = body_el.get_attribute(\"innerHTML\")\n",
    "    html_obj = HTML(html=html_str)\n",
    "    product_title = html_obj.find(title_lookup, first=True).text\n",
    "    product_price = html_obj.find(price_lookup, first=True).text\n",
    "    return link,product_title,product_price\n"
   ]
  },
  {
   "cell_type": "code",
   "execution_count": 12,
   "id": "373b00a3",
   "metadata": {},
   "outputs": [
    {
     "name": "stdout",
     "output_type": "stream",
     "text": [
      "https://www.amazon.in/Himalaya-Baby-Massage-Oil-500ml/dp/B00NOKRPD8/ref=zg_bs_baby_37/262-9682631-1824840?_encoding=UTF8&psc=1&refRID=YK0HC7VCD8ZW8CM6NCZ5 Himalaya Face Body Oil Baby Massage Oil For All Skin Types (500 ML) ₹322.00\n",
      "https://www.amazon.in/Himalaya-Baby-Shampoo-400-ml/dp/B00H5NMNXC/ref=zg_bs_baby_22/262-9682631-1824840?_encoding=UTF8&psc=1&refRID=YK0HC7VCD8ZW8CM6NCZ5 Himalaya Baby Shampoo (400 ml) ₹232.00\n",
      "https://www.amazon.in/Pampers-Premium-Care-Diapers-Count/dp/B082LDLPR9/ref=zg_bs_baby_48/262-9682631-1824840?_encoding=UTF8&psc=1&refRID=YK0HC7VCD8ZW8CM6NCZ5 Pampers Premium Care Pants, New Born, Extra Small size baby diapers (NB,XS), 70 count, Softest ever Pampers ₹689.00\n",
      "https://www.amazon.in/Mamaearth-Percent-Natural-Berry-Toothpaste/dp/B07BGT4J55/ref=zg_bs_baby_47/262-9682631-1824840?_encoding=UTF8&psc=1&refRID=YK0HC7VCD8ZW8CM6NCZ5 Mamaearth 100% Natural Berry Blast Kids Toothpaste 50 Gm, Fluoride Free, SLS Free, No Artificial Flavours, Best for baby ₹124.00\n",
      "https://www.amazon.in/Dabur-Lal-Tail-500-ml/dp/B00HVSRN8G/ref=zg_bs_baby_42/262-9682631-1824840?_encoding=UTF8&psc=1&refRID=YK0HC7VCD8ZW8CM6NCZ5 Dabur Lal Tail : Ayurvedic Baby Massage Oil – 500ml|Clinically Tested 2x Faster Physical Growth for Stronger Bones and Muscles ₹262.00\n",
      "https://www.amazon.in/Sebamed-Baby-Cleansing-Bar-150g/dp/B01KE8VPPG/ref=zg_bs_baby_35/262-9682631-1824840?_encoding=UTF8&psc=1&refRID=YK0HC7VCD8ZW8CM6NCZ5 Sebamed Baby Cleansing Bar (150g) ₹301.00\n",
      "https://www.amazon.in/Mamaearth-Moisturizing-Baby-Bathing-Oatmeal/dp/B07Q2B5Z9D/ref=zg_bs_baby_40/262-9682631-1824840?_encoding=UTF8&psc=1&refRID=YK0HC7VCD8ZW8CM6NCZ5 Mamaearth Moisturizing Baby Bathing Soap Bar, pH 5.5, with Goat Milk & Oatmeal. Pack of 2, 75gms each ₹170.00\n",
      "https://www.amazon.in/Himalaya-7003817-Baby-Powder-700g/dp/B07PSJW32L/ref=zg_bs_baby_28/262-9682631-1824840?_encoding=UTF8&psc=1&refRID=YK0HC7VCD8ZW8CM6NCZ5 Himalaya Baby Powder, 700g ₹252.00\n",
      "https://www.amazon.in/Huggies-Nature-Pants-Medium-Diaper/dp/B08JVMZ1SY/ref=zg_bs_baby_25/262-9682631-1824840?_encoding=UTF8&psc=1&refRID=YK0HC7VCD8ZW8CM6NCZ5 Huggies Nature Care Pants, Medium (M) Size Baby Diaper Pants, 22 Count, Natures Gentle Protection With Organic Cotton ₹319.00\n",
      "https://www.amazon.in/Pampers-Diapers-Pants-XX-Large-Count/dp/B07P226KH4/ref=zg_bs_baby_14/262-9682631-1824840?_encoding=UTF8&psc=1&refRID=YK0HC7VCD8ZW8CM6NCZ5 Pampers All round Protection Pants, Double Extra Large size baby diapers (XXL) 28 Count, Lotion with Aloe Vera ₹587.00\n",
      "https://www.amazon.in/MamyPoko-Pants-Standard-Style-Diapers/dp/B00KAUFEEM/ref=zg_bs_baby_10/262-9682631-1824840?_encoding=UTF8&psc=1&refRID=YK0HC7VCD8ZW8CM6NCZ5 MamyPoko Pants Standard Baby Diapers, Small (4 - 8 kg) 46 Count ₹339.00\n",
      "https://www.amazon.in/TEDIBAR-TDB5-Tedibar-2s-Pack/dp/B07ZJVXRCW/ref=zg_bs_baby_31/262-9682631-1824840?_encoding=UTF8&psc=1&refRID=YK0HC7VCD8ZW8CM6NCZ5 Tedibar Baby Bathing Bar | For Baby’s Sensitive Skin | Gentle Cleansing, Skin-friendly, pH 5.5, 75gm, Pack of 2 ₹229.00\n",
      "https://www.amazon.in/Sebamed-Baby-Wash-Extra-400Ml/dp/B00VFJWGCA/ref=zg_bs_baby_32/262-9682631-1824840?_encoding=UTF8&psc=1&refRID=YK0HC7VCD8ZW8CM6NCZ5 Sebamed Baby GENTAL WASH 400ML ₹640.00\n",
      "https://www.amazon.in/Pampers-Premium-Care-Pants-Diapers/dp/B082LF4L7X/ref=zg_bs_baby_34/262-9682631-1824840?_encoding=UTF8&psc=1&refRID=YK0HC7VCD8ZW8CM6NCZ5 Pampers Premium Care Pants, Double Extra Large size baby diapers (XXL), 60 Count, Softest ever Pampers pants ₹1,678.00\n",
      "https://www.amazon.in/Himalaya-Total-Pants-Diapers-Large/dp/B07MBYCL5Z/ref=zg_bs_baby_9/262-9682631-1824840?_encoding=UTF8&psc=1&refRID=YK0HC7VCD8ZW8CM6NCZ5 Himalaya Total Care Baby Pants Diapers, Extra Large (12 - 17 kg), 74 Count ₹831.00\n",
      "https://www.amazon.in/Huggies-Premium-Pants-Extra-diaper/dp/B0866L2DS3/ref=zg_bs_baby_27/262-9682631-1824840?_encoding=UTF8&psc=1&refRID=YK0HC7VCD8ZW8CM6NCZ5 Huggies Premium Soft Pants, Extra Small / New Born (XS / NB) size newborn baby diaper pants, 20 count ₹154.00\n",
      "https://www.amazon.in/SebaMed-Sebamed-Childrens-Shampoo-500ml/dp/B00VFJ6FEU/ref=zg_bs_baby_50/262-9682631-1824840?_encoding=UTF8&psc=1&refRID=YK0HC7VCD8ZW8CM6NCZ5 Sebamed Childrens' Shampoo, 500ml ₹762.00\n",
      "https://www.amazon.in/Huggies-Wonder-Pants-Diapers-Extra/dp/B07M92GK39/ref=zg_bs_baby_1/262-9682631-1824840?_encoding=UTF8&psc=1&refRID=YK0HC7VCD8ZW8CM6NCZ5 Huggies Wonder Pants Extra Large (XL) Size Baby Diaper Pants, with Bubble Bed Technology for comfort, (12.0 kg - 17.0 kg) (56 count) ₹781.00\n",
      "https://www.amazon.in/Himalaya-4004G-Baby-Powder-400g/dp/B008YD57OO/ref=zg_bs_baby_43/262-9682631-1824840?_encoding=UTF8&psc=1&refRID=YK0HC7VCD8ZW8CM6NCZ5 Himalaya Baby Powder (400g) ₹171.00\n",
      "https://www.amazon.in/Supples-Pants-Diapers-Medium-Count/dp/B07Q2F37JN/ref=zg_bs_baby_3/262-9682631-1824840?_encoding=UTF8&psc=1&refRID=YK0HC7VCD8ZW8CM6NCZ5 Supples Baby Pants Diapers, Medium (7-12 kg), 72 Count ₹622.00\n",
      "https://www.amazon.in/Himalaya-Gentle-Baby-Bath-400ml/dp/B01N32GD33/ref=zg_bs_baby_29/262-9682631-1824840?_encoding=UTF8&psc=1&refRID=YK0HC7VCD8ZW8CM6NCZ5 Himalaya Gentle Baby Wash (400ml) ₹207.00\n",
      "https://www.amazon.in/Huggies-Large-Size-Diapers-Counts/dp/B01EAFLG2G/ref=zg_bs_baby_26/262-9682631-1824840?_encoding=UTF8&psc=1&refRID=YK0HC7VCD8ZW8CM6NCZ5 Huggies New Dry Large Size Diapers (52 Counts) ₹553.00\n",
      "https://www.amazon.in/Bey-Bee-Waterproof-Protector-Sheet/dp/B00VZQP6PM/ref=zg_bs_baby_23/262-9682631-1824840?_encoding=UTF8&psc=1&refRID=YK0HC7VCD8ZW8CM6NCZ5 BeyBee Bed Protector Sheet (Small (50cm X 70cm), Salmon Rose) ₹139.00\n",
      "https://www.amazon.in/Himalaya-Baby-Cream-200ml/dp/B00QGEN6C8/ref=zg_bs_baby_41/262-9682631-1824840?_encoding=UTF8&psc=1&refRID=YK0HC7VCD8ZW8CM6NCZ5 Himalaya Baby Cream, Face Moisturizer & Day Cream, For Dry Skin 200ml ₹187.00\n",
      "https://www.amazon.in/MamyPoko-Pants-Absorb-Diapers-Monthly/dp/B07KFHSF5C/ref=zg_bs_baby_2/262-9682631-1824840?_encoding=UTF8&psc=1&refRID=YK0HC7VCD8ZW8CM6NCZ5 MamyPoko Pants Extra Absorb Baby Diapers Monthly Pack, Large (9 - 14 kg) 96 Count ₹944.00\n",
      "https://www.amazon.in/Littles-Diapers-Wetness-Indicator-Absorption/dp/B08J126QF9/ref=zg_bs_baby_11/262-9682631-1824840?_encoding=UTF8&psc=1&refRID=YK0HC7VCD8ZW8CM6NCZ5 Little's Baby Pants Diapers with Wetness Indicator and 12 Hours Absorption, Large (L), 9-14 kg, 60 Count ₹586.00\n",
      "https://www.amazon.in/Littles-Soft-Cleansing-Baby-Wipes/dp/B004X7545M/ref=zg_bs_baby_6/262-9682631-1824840?_encoding=UTF8&psc=1&refRID=YK0HC7VCD8ZW8CM6NCZ5 Little's Soft Cleansing Baby Wipes with Aloe Vera, Jojoba Oil and Vitamin E (80 wipes) pack of 3 ₹239.00\n",
      "https://www.amazon.in/Nestle-Cerelac-Fortified-Cereal-Multigrain/dp/B00FPSNGDK/ref=zg_bs_baby_39/262-9682631-1824840?_encoding=UTF8&psc=1&refRID=YK0HC7VCD8ZW8CM6NCZ5 Nestlé CERELAC Baby Cereal with Milk, Multigrain & Fruits – From 12 Months, 300g BIB Pack ₹272.00\n",
      "https://www.amazon.in/Pampers-Premium-Care-Pants-Diapers/dp/B07DDXVK39/ref=zg_bs_baby_16/262-9682631-1824840?_encoding=UTF8&psc=1&refRID=YK0HC7VCD8ZW8CM6NCZ5 Pampers Premium Care Pants, Large size baby diapers (LG), 44 Count, Softest ever Pampers pants ₹860.00\n",
      "https://www.amazon.in/Pampers-Active-Large-Diapers-Count/dp/B077HV19LS/ref=zg_bs_baby_44/262-9682631-1824840?_encoding=UTF8&psc=1&refRID=YK0HC7VCD8ZW8CM6NCZ5 Pampers Active Baby Taped Diapers, Large size diapers, (LG) 78 count, taped style custom fit ₹1,394.00\n",
      "https://www.amazon.in/Pampers-Diapers-Pants-Medium-Count/dp/B07DP24NSR/ref=zg_bs_baby_8/262-9682631-1824840?_encoding=UTF8&psc=1&refRID=YK0HC7VCD8ZW8CM6NCZ5 Pampers All round Protection Pants, Medium size baby diapers (MD) 76 Count, Lotion with Aloe Vera ₹778.00\n",
      "https://www.amazon.in/Pampers-Premium-Care-Diapers-Medium/dp/B07F2X8BHM/ref=zg_bs_baby_19/262-9682631-1824840?_encoding=UTF8&psc=1&refRID=YK0HC7VCD8ZW8CM6NCZ5 Pampers Premium Care Pants, Medium size baby diapers (MD), 54 Count, Softest ever Pampers pants ₹839.00\n",
      "https://www.amazon.in/Little-Angel-Diaper-Pants-Extra/dp/B07NKJPK7C/ref=zg_bs_baby_45/262-9682631-1824840?_encoding=UTF8&psc=1&refRID=YK0HC7VCD8ZW8CM6NCZ5 Little Angel Baby Diaper Pants, Extra Large (2 X Pack of 42) ₹923.00\n",
      "https://www.amazon.in/Pampers-Large-Diapers-Pants-Count/dp/B07CXFJT8Q/ref=zg_bs_baby_5/262-9682631-1824840?_encoding=UTF8&psc=1&refRID=YK0HC7VCD8ZW8CM6NCZ5 Pampers All round Protection Pants, Large size baby diapers (LG) 64 Count, Lotion with Aloe Vera ₹785.00\n"
     ]
    },
    {
     "name": "stdout",
     "output_type": "stream",
     "text": [
      "https://www.amazon.in/Huggies-Pants-Small-Diapers-Count/dp/B083F8DBNH/ref=zg_bs_baby_33/262-9682631-1824840?_encoding=UTF8&psc=1&refRID=YK0HC7VCD8ZW8CM6NCZ5 Huggies Dry Pants, Small (S) Size Baby Diaper Pants, 36 count, with Bubble Bed Technology for comfort ₹279.00\n",
      "https://www.amazon.in/Pampers-New-Diapers-Pants-Count/dp/B07CXGJKXL/ref=zg_bs_baby_4/262-9682631-1824840?_encoding=UTF8&psc=1&refRID=YK0HC7VCD8ZW8CM6NCZ5 Pampers All round Protection Pants, Extra Large size baby diapers (XL) 56 Count, Lotion with Aloe Vera ₹851.00\n",
      "https://www.amazon.in/Himalaya-gentle-Wipes-72Napkins-packs/dp/B017VOMJ6A/ref=zg_bs_baby_18/262-9682631-1824840?_encoding=UTF8&psc=1&refRID=YK0HC7VCD8ZW8CM6NCZ5 Himalaya Gentle Baby Wipes - 72 Pieces (Pack of 2) ₹260.00\n",
      "https://www.amazon.in/SebaMed-Sebamed-Baby-Lotion-400ml/dp/B00VEEHIEM/ref=zg_bs_baby_36/262-9682631-1824840?_encoding=UTF8&psc=1&refRID=YK0HC7VCD8ZW8CM6NCZ5 SebaMed Baby Body Lotion, For All Skin Types, 400 ml ₹868.00\n",
      "https://www.amazon.in/Pampers-Active-Diapers-Small-Count/dp/B081QTNF7V/ref=zg_bs_baby_46/262-9682631-1824840?_encoding=UTF8&psc=1&refRID=YK0HC7VCD8ZW8CM6NCZ5 Pampers Active Baby Taped Diapers, Small size diapers, (SM) 92 count, taped style custom fit ₹1,349.00\n",
      "https://www.amazon.in/Papimo-Pants-Diapers-Medium-Count/dp/B086N5L728/ref=zg_bs_baby_30/262-9682631-1824840?_encoding=UTF8&psc=1&refRID=YK0HC7VCD8ZW8CM6NCZ5 Papimo Baby Pants Diapers with Aloe Vera, Medium (7 - 12 kg), 76 Count ₹719.00\n",
      "https://www.amazon.in/Pampers-Premium-Care-Diapers-Monthly/dp/B07F2HMCQ2/ref=zg_bs_baby_17/262-9682631-1824840?_encoding=UTF8&psc=1&refRID=YK0HC7VCD8ZW8CM6NCZ5 Pampers Premium Care Pants, Extra Large size baby diapers (XL), 72 Count, Softest ever Pampers pants ₹1,655.00\n",
      "https://www.amazon.in/Pampers-Diapers-Pants-Small-Count/dp/B07DP27MF4/ref=zg_bs_baby_12/262-9682631-1824840?_encoding=UTF8&psc=1&refRID=YK0HC7VCD8ZW8CM6NCZ5 Pampers All round Protection Pants, Small size baby diapers (SM) 86 Count, Lotion with Aloe Vera ₹654.00\n",
      "https://www.amazon.in/Pampers-Diapers-Pants-X-Small-Count/dp/B07DP27JKB/ref=zg_bs_baby_20/262-9682631-1824840?_encoding=UTF8&psc=1&refRID=YK0HC7VCD8ZW8CM6NCZ5 Pampers All round Protection Pants, New Born, Extra Small size baby diapers (NB,XS) 86 Count, Lotion with Aloe Vera ₹671.00\n",
      "https://www.amazon.in/Supples-Baby-Wipes-Aloe-Vitamin/dp/B07QSLRRWS/ref=zg_bs_baby_13/262-9682631-1824840?_encoding=UTF8&psc=1&refRID=YK0HC7VCD8ZW8CM6NCZ5 Supples Baby Wet Wipes with Aloe Vera and Vitamin E - 72 Wipes/Pack, (Pack of 3) ₹184.00\n",
      "https://www.amazon.in/Pampers-Premium-Small-Diapers-Pants/dp/B07GQ35C62/ref=zg_bs_baby_38/262-9682631-1824840?_encoding=UTF8&psc=1&refRID=YK0HC7VCD8ZW8CM6NCZ5 Pampers Premium Care Pants, Small size baby diapers (SM), 70 Count, Softest ever Pampers pants ₹803.00\n",
      "https://www.amazon.in/Himalaya-4003F-Baby-Lotion-400ml/dp/B008YD5500/ref=zg_bs_baby_24/262-9682631-1824840?_encoding=UTF8&psc=1&refRID=YK0HC7VCD8ZW8CM6NCZ5 Himalaya Baby Body Lotion, For All Skin Types (400 ml) ₹227.00\n",
      "https://www.amazon.in/Himalaya-Total-Pants-Diapers-Large/dp/B07MJ5PBNH/ref=zg_bs_baby_49/262-9682631-1824840?_encoding=UTF8&psc=1&refRID=YK0HC7VCD8ZW8CM6NCZ5 Himalaya Total Care Baby Pants Diapers, Large (9 - 14 kg), 76 Count ₹940.00\n",
      "https://www.amazon.in/Mee-Caring-Baby-Wipes-Aloe/dp/B00DRE0LQY/ref=zg_bs_baby_7/262-9682631-1824840?_encoding=UTF8&psc=1&refRID=YK0HC7VCD8ZW8CM6NCZ5 Mee Mee Baby Gentle Wet Wipes with Aloe Vera extracts, 72 counts, Pack of 3 ₹194.00\n",
      "https://www.amazon.in/Pampers-Active-Baby-Diapers-Count/dp/B0781Z3BW6/ref=zg_bs_baby_21/262-9682631-1824840?_encoding=UTF8&psc=1&refRID=YK0HC7VCD8ZW8CM6NCZ5 Pampers Active Baby Diapers, New Born, Extra Small, (NB, XS) size, 72 Count, Taped style diaper ₹989.00\n"
     ]
    }
   ],
   "source": [
    "for link in page_links:\n",
    "    title,price = (None,None)\n",
    "    try:\n",
    "        product_link,title,price = scrape_product_page(link)\n",
    "    except Exception as e:\n",
    "        pass\n",
    "    if title != None and price != None:\n",
    "        print(product_link,title,price)"
   ]
  },
  {
   "cell_type": "code",
   "execution_count": null,
   "id": "1b067e04",
   "metadata": {},
   "outputs": [],
   "source": [
    "# https://www.amazon.in/Himalaya-Baby-Massage-Oil-500ml/dp/B00NOKRPD8/\n",
    "\n",
    "#<base-url>/<slug>/dp/<product_id>/\n"
   ]
  },
  {
   "cell_type": "code",
   "execution_count": null,
   "id": "e80bd3b5",
   "metadata": {},
   "outputs": [],
   "source": []
  }
 ],
 "metadata": {
  "kernelspec": {
   "display_name": "Python 3 (ipykernel)",
   "language": "python",
   "name": "python3"
  },
  "language_info": {
   "codemirror_mode": {
    "name": "ipython",
    "version": 3
   },
   "file_extension": ".py",
   "mimetype": "text/x-python",
   "name": "python",
   "nbconvert_exporter": "python",
   "pygments_lexer": "ipython3",
   "version": "3.7.9"
  }
 },
 "nbformat": 4,
 "nbformat_minor": 5
}
