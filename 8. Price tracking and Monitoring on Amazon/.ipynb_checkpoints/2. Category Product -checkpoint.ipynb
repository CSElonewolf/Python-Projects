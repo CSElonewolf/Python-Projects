{
 "cells": [
  {
   "cell_type": "code",
   "execution_count": 1,
   "id": "c895eea2",
   "metadata": {},
   "outputs": [],
   "source": [
    "import requests\n",
    "from requests_html import HTML\n",
    "from selenium import webdriver \n",
    "from selenium.webdriver.chrome.options import Options\n",
    "import time "
   ]
  },
  {
   "cell_type": "code",
   "execution_count": 2,
   "id": "7b40300d",
   "metadata": {},
   "outputs": [],
   "source": [
    "options = Options()\n",
    "options.add_argument(\"--headless\")\n",
    "driver = webdriver.Chrome(options = options)"
   ]
  },
  {
   "cell_type": "code",
   "execution_count": 8,
   "id": "2356d89f",
   "metadata": {},
   "outputs": [],
   "source": [
    "categories = [\n",
    "    \"https://www.amazon.in/gp/bestsellers/toys\",\n",
    "    \"https://www.amazon.in/gp/bestsellers/electronics\",\n",
    "    \"https://www.amazon.in/gp/bestsellers/books\"    \n",
    "]"
   ]
  },
  {
   "cell_type": "code",
   "execution_count": 9,
   "id": "90a4c23f",
   "metadata": {},
   "outputs": [
    {
     "data": {
      "text/plain": [
       "'https://www.amazon.in/gp/bestsellers/toys'"
      ]
     },
     "execution_count": 9,
     "metadata": {},
     "output_type": "execute_result"
    }
   ],
   "source": [
    "url = categories[0]\n",
    "url"
   ]
  },
  {
   "cell_type": "code",
   "execution_count": 10,
   "id": "94fc161c",
   "metadata": {},
   "outputs": [],
   "source": [
    "driver.get(url)"
   ]
  },
  {
   "cell_type": "code",
   "execution_count": 13,
   "id": "f297cc96",
   "metadata": {},
   "outputs": [],
   "source": [
    "body_el = driver.find_element_by_css_selector(\"body\")\n",
    "html_str = body_el.get_attribute(\"innerHTML\")\n"
   ]
  },
  {
   "cell_type": "code",
   "execution_count": 14,
   "id": "291701c1",
   "metadata": {},
   "outputs": [],
   "source": [
    "html_obj = HTML(html = html_str)"
   ]
  },
  {
   "cell_type": "code",
   "execution_count": 17,
   "id": "58135b8e",
   "metadata": {},
   "outputs": [],
   "source": [
    "new_links = [x for x in html_obj.links if x.startswith(\"/\")]"
   ]
  },
  {
   "cell_type": "code",
   "execution_count": 19,
   "id": "b7476fb9",
   "metadata": {},
   "outputs": [],
   "source": [
    "page_links = [f\"www.amazon.in{x}\" for x in new_links]"
   ]
  },
  {
   "cell_type": "code",
   "execution_count": 20,
   "id": "90643c56",
   "metadata": {},
   "outputs": [
    {
     "data": {
      "text/plain": [
       "['www.amazon.in/hz/wishlist/ls?triggerElementID=createList&ref_=nav_ListFlyout_navFlyout_createList_lv_redirect',\n",
       " 'www.amazon.in/product-reviews/B08JVF4FQB/ref=zg_bs_toys_cr_47/257-8622111-9088651?ie=UTF8&refRID=0RFQAZ27RFE97Y8AB4TZ',\n",
       " 'www.amazon.in/product-reviews/B08W3GLW9T/ref=zg_bs_toys_cr_33/257-8622111-9088651?ie=UTF8&refRID=0RFQAZ27RFE97Y8AB4TZ',\n",
       " 'www.amazon.in/product-reviews/B07D5B1S6Q/ref=zg_bs_toys_cr_37/257-8622111-9088651?ie=UTF8&refRID=0RFQAZ27RFE97Y8AB4TZ',\n",
       " 'www.amazon.in/Einstein-Box-Learning-Educational-Multicolor/dp/B01MTNA7I0/ref=zg_bs_toys_37/257-8622111-9088651?_encoding=UTF8&psc=1&refRID=0RFQAZ27RFE97Y8AB4TZ',\n",
       " 'www.amazon.in/gp/css/order-history?ref_=nav_AccountFlyout_orders',\n",
       " 'www.amazon.in/mobile-phones/b/?ie=UTF8&node=1389401031&ref_=nav_cs_mobiles_9292c6cb7b394d30b2467b8f631090a7',\n",
       " 'www.amazon.in/Frank-Peppa-Pig-Puzzle-Animals/dp/B08GL2SMP8/ref=zg_bs_toys_42/257-8622111-9088651?_encoding=UTF8&psc=1&refRID=0RFQAZ27RFE97Y8AB4TZ',\n",
       " 'www.amazon.in/hz5/yourmembershipsandsubscriptions?ref_=nav_AccountFlyout_digital_subscriptions',\n",
       " 'www.amazon.in/BINGE-Sensory-Special-Silicone-Novelty/dp/B09G5SFSNJ/ref=zg_bs_toys_18/257-8622111-9088651?_encoding=UTF8&psc=1&refRID=0RFQAZ27RFE97Y8AB4TZ',\n",
       " 'www.amazon.in/VEERA-SOFT-TOYS-Teddy-Latest/dp/B07YDJJBY5/ref=zg_bs_toys_41/257-8622111-9088651?_encoding=UTF8&psc=1&refRID=0RFQAZ27RFE97Y8AB4TZ',\n",
       " 'www.amazon.in/ref=footer_logo',\n",
       " 'www.amazon.in/gp/help/customer/display.html?nodeId=200507590&ref_=footer_gw_m_b_he',\n",
       " 'www.amazon.in/gp/css/returns/homepage.html?ref_=footer_hy_f_4',\n",
       " 'www.amazon.in/Learning-Educational/b/?ie=UTF8&node=1378342031&ref_=sv_t_8',\n",
       " 'www.amazon.in/product-reviews/B08T1XGMRF/ref=zg_bs_toys_cr_14/257-8622111-9088651?ie=UTF8&refRID=0RFQAZ27RFE97Y8AB4TZ',\n",
       " 'www.amazon.in/HUG-FEEL-SOFT-TOYS-Lovable/dp/B07HJF5CH7/ref=zg_bs_toys_5/257-8622111-9088651?_encoding=UTF8&psc=1&refRID=0RFQAZ27RFE97Y8AB4TZ',\n",
       " 'www.amazon.in/product-reviews/B08L92QG93/ref=zg_bs_toys_cr_3/257-8622111-9088651?ie=UTF8&refRID=0RFQAZ27RFE97Y8AB4TZ',\n",
       " 'www.amazon.in/product-reviews/B07SYJXQTR/ref=zg_bs_toys_cr_36/257-8622111-9088651?ie=UTF8&refRID=0RFQAZ27RFE97Y8AB4TZ',\n",
       " 'www.amazon.in/product-reviews/B084ZLBWS3/ref=zg_bs_toys_cr_26/257-8622111-9088651?ie=UTF8&refRID=0RFQAZ27RFE97Y8AB4TZ',\n",
       " 'www.amazon.in/Rangeela-Creative-Clay-Pack-Containing/dp/B07Y58PFMQ/ref=zg_bs_toys_46/257-8622111-9088651?_encoding=UTF8&psc=1&refRID=0RFQAZ27RFE97Y8AB4TZ',\n",
       " 'www.amazon.in/product-reviews/B07WQJ3P27/ref=zg_bs_toys_cr_13/257-8622111-9088651?ie=UTF8&refRID=0RFQAZ27RFE97Y8AB4TZ',\n",
       " 'www.amazon.in/gp/help/customer/display.html?nodeId=201083470&ref_=footer_swc',\n",
       " 'www.amazon.in/product-reviews/B07SDBMS29/ref=zg_bs_toys_cr_39/257-8622111-9088651?ie=UTF8&refRID=0RFQAZ27RFE97Y8AB4TZ',\n",
       " 'www.amazon.in/ButterflyEduFields-Alphabet-Pictures-Magnetic-Educational/dp/B08KSFYMYW/ref=zg_bs_toys_16/257-8622111-9088651?_encoding=UTF8&psc=1&refRID=0RFQAZ27RFE97Y8AB4TZ',\n",
       " 'www.amazon.in/gp/help/customer/display.html?nodeId=200507590&ref_=nav_cs_help_79404a52982a4d9d973cf256c713999e',\n",
       " 'www.amazon.in/Toyshine-Wooden-Dominos-Blocks-Educational/dp/B084HCJ1VT/ref=zg_bs_toys_25/257-8622111-9088651?_encoding=UTF8&psc=1&refRID=0RFQAZ27RFE97Y8AB4TZ',\n",
       " 'www.amazon.in/GeoKraft-Political-Laminated-ShowPiece-Birthday/dp/B08TMKN2C6/ref=zg_bs_toys_22/257-8622111-9088651?_encoding=UTF8&psc=1&refRID=0RFQAZ27RFE97Y8AB4TZ',\n",
       " 'www.amazon.in/QIPS-Multi-Pocket-Multi-Utility-Polyester-Pencil/dp/B08JVDD6V8/ref=zg_bs_toys_47/257-8622111-9088651?_encoding=UTF8&psc=1&refRID=0RFQAZ27RFE97Y8AB4TZ',\n",
       " 'www.amazon.in/video-games/b/?ie=UTF8&node=976460031&ref_=nav_cs_video_games_6da073eac80d4cc188a31f2330c92387',\n",
       " 'www.amazon.in/product-reviews/B0978NQ3TT/ref=zg_bs_toys_cr_28/257-8622111-9088651?ie=UTF8&refRID=0RFQAZ27RFE97Y8AB4TZ',\n",
       " 'www.amazon.in/AdiChai-Including-Attractive-Windows-Building/dp/B0974W9SQL/ref=zg_bs_toys_39/257-8622111-9088651?_encoding=UTF8&psc=1&refRID=0RFQAZ27RFE97Y8AB4TZ',\n",
       " 'www.amazon.in/gp/customer-preferences/select-language/ref=topnav_lang?preferencesReturnUrl=%2Fgp%2Fbestsellers%2Ftoys',\n",
       " 'www.amazon.in/Die-Cast-Toy-Vehicles/b/?ie=UTF8&node=1378242031&ref_=sv_t_7',\n",
       " 'www.amazon.in/pop-Fidget-Rainbow-poppit-4-Squre/dp/B09BJTNTM7/ref=zg_bs_toys_9/257-8622111-9088651?_encoding=UTF8&psc=1&refRID=0RFQAZ27RFE97Y8AB4TZ',\n",
       " 'www.amazon.in/gp/BIT/theamazonapp/ref=footer_assistant_download_copy',\n",
       " 'www.amazon.in/WISHKEY-Rattles-Teethers-Animal-Infants/dp/B07X5L5C1R/ref=zg_bs_toys_14/257-8622111-9088651?_encoding=UTF8&psc=1&refRID=0RFQAZ27RFE97Y8AB4TZ',\n",
       " 'www.amazon.in/Toys-Games/b/?ie=UTF8&node=1350380031&ref_=topnav_storetab_t',\n",
       " 'www.amazon.in/product-reviews/B07YDKCFQW/ref=zg_bs_toys_cr_41/257-8622111-9088651?ie=UTF8&refRID=0RFQAZ27RFE97Y8AB4TZ',\n",
       " 'www.amazon.in/product-reviews/B0816XCZSG/ref=zg_bs_toys_cr_22/257-8622111-9088651?ie=UTF8&refRID=0RFQAZ27RFE97Y8AB4TZ',\n",
       " 'www.amazon.in/Books/b/?ie=UTF8&node=976389031&ref_=nav_cs_books_bc600d0d124d40a3909f96904182b45f',\n",
       " 'www.amazon.in/product-reviews/B07Y58PFMQ/ref=zg_bs_toys_cr_46/257-8622111-9088651?ie=UTF8&refRID=0RFQAZ27RFE97Y8AB4TZ',\n",
       " 'www.amazon.in/ARHA-IINTERNATIONAL-Jumbo-Foldable-Tunnel/dp/B08127NP9H/ref=zg_bs_toys_45/257-8622111-9088651?_encoding=UTF8&psc=1&refRID=0RFQAZ27RFE97Y8AB4TZ',\n",
       " 'www.amazon.in/Pet-Supplies/b/?ie=UTF8&node=2454181031&ref_=nav_cs_pets_57065eb9748646eb8c04675172dd0001',\n",
       " 'www.amazon.in/gp/browse.html?node=6648217031&ref_=nav_cs_fashion_ad6f81eb5d474066bc9e5788a3c19a28',\n",
       " 'www.amazon.in/s/other/?ie=UTF8&pickerToList=brandtextbin&rh=n%3A1350380031&ref_=sv_t_1',\n",
       " 'www.amazon.in/Fidget-Toys-Rainbow-poppit-Bubble/dp/B09CD77961/ref=zg_bs_toys_21/257-8622111-9088651?_encoding=UTF8&psc=1&refRID=0RFQAZ27RFE97Y8AB4TZ',\n",
       " 'www.amazon.in/product-reviews/B07Q241M6R/ref=zg_bs_toys_cr_5/257-8622111-9088651?ie=UTF8&refRID=0RFQAZ27RFE97Y8AB4TZ',\n",
       " 'www.amazon.in/gp/yourstore/pym/ref=pd_pyml_rhf/257-8622111-9088651',\n",
       " 'www.amazon.in/FunBlast-Pieces-Interlocking-Learning-Alphabet/dp/B07NX15BY8/ref=zg_bs_toys_50/257-8622111-9088651?_encoding=UTF8&psc=1&refRID=0RFQAZ27RFE97Y8AB4TZ&smid=A3LH2KKDFG65UB',\n",
       " 'www.amazon.in/product-reviews/B07Z7QDH3D/ref=zg_bs_toys_cr_4/257-8622111-9088651?ie=UTF8&refRID=0RFQAZ27RFE97Y8AB4TZ',\n",
       " 'www.amazon.in/Toyzone-Barbie-My-Little-Kitchen/dp/B07XCDLXLK/ref=zg_bs_toys_40/257-8622111-9088651?_encoding=UTF8&psc=1&refRID=0RFQAZ27RFE97Y8AB4TZ',\n",
       " 'www.amazon.in/product-reviews/B07NJTFVZ6/ref=zg_bs_toys_cr_31/257-8622111-9088651?ie=UTF8&refRID=0RFQAZ27RFE97Y8AB4TZ',\n",
       " 'www.amazon.in/wishlist/universal?ref_=nav_ListFlyout_gno_listpop_uwl',\n",
       " 'www.amazon.in/Mattel-Apples-Kids-Crazy-Comparisons/dp/B00112EJEY/ref=zg_bs_toys_6/257-8622111-9088651?_encoding=UTF8&psc=1&refRID=0RFQAZ27RFE97Y8AB4TZ',\n",
       " 'www.amazon.in/product-reviews/B097R3QPSL/ref=zg_bs_toys_cr_21/257-8622111-9088651?ie=UTF8&refRID=0RFQAZ27RFE97Y8AB4TZ',\n",
       " 'www.amazon.in/product-reviews/B08Q5F1Z9W/ref=zg_bs_toys_cr_7/257-8622111-9088651?ie=UTF8&refRID=0RFQAZ27RFE97Y8AB4TZ',\n",
       " 'www.amazon.in/product-reviews/B0835F9F52/ref=zg_bs_toys_cr_40/257-8622111-9088651?ie=UTF8&refRID=0RFQAZ27RFE97Y8AB4TZ',\n",
       " 'www.amazon.in/product-reviews/B08GHCPJ69/ref=zg_bs_toys_cr_11/257-8622111-9088651?ie=UTF8&refRID=0RFQAZ27RFE97Y8AB4TZ',\n",
       " 'www.amazon.in/Littles-606-Baby-Ball-Multicolour/dp/B00ADZULW4/ref=zg_bs_toys_23/257-8622111-9088651?_encoding=UTF8&psc=1&refRID=0RFQAZ27RFE97Y8AB4TZ',\n",
       " 'www.amazon.in/product-reviews/B07HXDF8F6/ref=zg_bs_toys_cr_38/257-8622111-9088651?ie=UTF8&refRID=0RFQAZ27RFE97Y8AB4TZ',\n",
       " 'www.amazon.in/Littles-607-Junior-Ring-Multicolour/dp/B00ADZUNYK/ref=zg_bs_toys_3/257-8622111-9088651?_encoding=UTF8&psc=1&refRID=0RFQAZ27RFE97Y8AB4TZ',\n",
       " 'www.amazon.in/gp/bestsellers/toys/?ie=UTF8&ref_=sv_t_2',\n",
       " 'www.amazon.in/Silicone-Educational-Toys-Special-Needs/dp/B0995LHR77/ref=zg_bs_toys_28/257-8622111-9088651?_encoding=UTF8&psc=1&refRID=0RFQAZ27RFE97Y8AB4TZ',\n",
       " 'www.amazon.in/Centy-Toys-Rickshaw-Multi-Color/dp/B011NXA79Q/ref=zg_bs_toys_38/257-8622111-9088651?_encoding=UTF8&psc=1&refRID=0RFQAZ27RFE97Y8AB4TZ',\n",
       " 'www.amazon.in/product-reviews/B07TWWL5QB/ref=zg_bs_toys_cr_24/257-8622111-9088651?ie=UTF8&refRID=0RFQAZ27RFE97Y8AB4TZ',\n",
       " 'www.amazon.in/product-reviews/B081JZPL6F/ref=zg_bs_toys_cr_45/257-8622111-9088651?ie=UTF8&refRID=0RFQAZ27RFE97Y8AB4TZ',\n",
       " 'www.amazon.in/Baby/b/?ie=UTF8&node=1571274031&ref_=nav_cs_baby_b2a01e91bb824bf1875698a9cdcacb29',\n",
       " 'www.amazon.in/product-reviews/B07GBMXNXR/ref=zg_bs_toys_cr_49/257-8622111-9088651?ie=UTF8&refRID=0RFQAZ27RFE97Y8AB4TZ',\n",
       " 'www.amazon.in/gp/sva/dashboard?ref_=nav_cs_apay_fe0c735739554ca1a7cccf7c41941f2f',\n",
       " 'www.amazon.in/gp/bestsellers/?ref_=nav_cs_bestsellers_17d44cb01bd144359b81b1c10b84dd98',\n",
       " 'www.amazon.in/Eternal-Mirror-Speed-Magic-Puzzle/dp/B07QGQH9KK/ref=zg_bs_toys_43/257-8622111-9088651?_encoding=UTF8&psc=1&refRID=0RFQAZ27RFE97Y8AB4TZ',\n",
       " 'www.amazon.in/health-and-personal-care/b/?ie=UTF8&node=1350384031&ref_=nav_cs_hpc_a024fc7ba9174802831aed18bbebb33d',\n",
       " 'www.amazon.in/gp/help/customer/display.html?nodeId=202075050&ref_=footer_iba',\n",
       " 'www.amazon.in/business?ref=footer_aingw',\n",
       " 'www.amazon.in/gp/css/homepage.html?ref_=nav_AccountFlyout_ya',\n",
       " 'www.amazon.in/product-reviews/B099KHP8FR/ref=zg_bs_toys_cr_1/257-8622111-9088651?ie=UTF8&refRID=0RFQAZ27RFE97Y8AB4TZ',\n",
       " 'www.amazon.in/gp/customer-preferences/select-language/ref=footer_lang?ie=UTF8&preferencesReturnUrl=%2Fgp%2Fbestsellers%2Ftoys',\n",
       " 'www.amazon.in/Negi-Drop-Puzzle-Game/dp/B08G1V74XP/ref=zg_bs_toys_8/257-8622111-9088651?_encoding=UTF8&psc=1&refRID=0RFQAZ27RFE97Y8AB4TZ',\n",
       " 'www.amazon.in/product-reviews/B09B4VLRBG/ref=zg_bs_toys_cr_9/257-8622111-9088651?ie=UTF8&refRID=0RFQAZ27RFE97Y8AB4TZ',\n",
       " 'www.amazon.in/product-reviews/B097JNYBYL/ref=zg_bs_toys_cr_20/257-8622111-9088651?ie=UTF8&refRID=0RFQAZ27RFE97Y8AB4TZ',\n",
       " 'www.amazon.in/Frank-10208-Animals-Puzzle-Above/dp/B08L4SLYSV/ref=zg_bs_toys_26/257-8622111-9088651?_encoding=UTF8&psc=1&refRID=0RFQAZ27RFE97Y8AB4TZ',\n",
       " 'www.amazon.in/gp/browse.html?node=8872558031&ref_=footer_cares',\n",
       " 'www.amazon.in/gp/browse.html?node=21102587031&ref_=nav_ya_flyout_b2b_reg',\n",
       " 'www.amazon.in/gp/primecentral?ref_=nav_AccountFlyout_prime',\n",
       " 'www.amazon.in/Toys-Sensory-Special-Needs-Silicone/dp/B097SY2KV6/ref=zg_bs_toys_12/257-8622111-9088651?_encoding=UTF8&psc=1&refRID=0RFQAZ27RFE97Y8AB4TZ',\n",
       " 'www.amazon.in/gp/yourstore?ref_=nav_AccountFlyout_recs',\n",
       " 'www.amazon.in/gp/new-releases/?ref_=nav_cs_newreleases_b9144c00866c4016b948d9b5b5215b45',\n",
       " 'www.amazon.in/Kindle-Store/b/?ie=UTF8&node=1571277031&ref_=nav_cs_kindle_books_fbe4f5e5a26f403a91203de3fe5ab05d',\n",
       " 'www.amazon.in/electronics/b/?ie=UTF8&node=976419031&ref_=nav_cs_electronics_c5b70a82461a484189e700166599ce9f',\n",
       " 'www.amazon.in/Amazon-Brand-Honey-Golden-Brown/dp/B096YG9PN9/ref=zg_bs_toys_34/257-8622111-9088651?_encoding=UTF8&psc=1&refRID=0RFQAZ27RFE97Y8AB4TZ',\n",
       " 'www.amazon.in/music/prime?ref=footer_apm',\n",
       " 'www.amazon.in/gp/redirect.html?location=https%3A%2F%2Fwww.primevideo.com%2F%3Fref_%3D_apv&source=nav_linktree&token=13D4F90D28CD96790B94E6091246BB1B2AE9FA05',\n",
       " 'www.amazon.in/product-reviews/B09442Z9NB/ref=zg_bs_toys_cr_30/257-8622111-9088651?ie=UTF8&refRID=0RFQAZ27RFE97Y8AB4TZ',\n",
       " 'www.amazon.in/product-reviews/B07S2QDMDX/ref=zg_bs_toys_cr_43/257-8622111-9088651?ie=UTF8&refRID=0RFQAZ27RFE97Y8AB4TZ',\n",
       " 'www.amazon.in/product-reviews/B07NX15BY8/ref=zg_bs_toys_cr_50/257-8622111-9088651?ie=UTF8&refRID=0RFQAZ27RFE97Y8AB4TZ',\n",
       " 'www.amazon.in/Funskool-Fundough-Fun-Pack-Multi-Colour/dp/B00XNE50Z0/ref=zg_bs_toys_15/257-8622111-9088651?_encoding=UTF8&psc=1&refRID=0RFQAZ27RFE97Y8AB4TZ',\n",
       " 'www.amazon.in/baby-reg/homepage?ref_=nav_ListFlyout_gno_listpop_br',\n",
       " 'www.amazon.in/Mattel-Scrabble-Board-Multi-Color/dp/B0000AP4RQ/ref=zg_bs_toys_32/257-8622111-9088651?_encoding=UTF8&psc=1&refRID=0RFQAZ27RFE97Y8AB4TZ',\n",
       " 'www.amazon.in/gift-card-store/b/?ie=UTF8&node=3704982031&ref_=nav_cs_gc_35a9db0a7db34350a3d3cb851062984e',\n",
       " 'www.amazon.in/Dolls-Accessories/b/?ie=UTF8&node=1378260031&ref_=sv_t_6',\n",
       " 'www.amazon.in/product-reviews/B08K48Y6GK/ref=zg_bs_toys_cr_23/257-8622111-9088651?ie=UTF8&refRID=0RFQAZ27RFE97Y8AB4TZ',\n",
       " 'www.amazon.in/ESnipe-Activities-Laptop-Notebook-Computer/dp/B07Z3CRZ61/ref=zg_bs_toys_29/257-8622111-9088651?_encoding=UTF8&psc=1&refRID=0RFQAZ27RFE97Y8AB4TZ',\n",
       " 'www.amazon.in/amazon-coupons/b/?_encoding=UTF8&node=10465704031&ref_=nav_cs_coupons_ce0af682243a4823874ce6cde7afb33e',\n",
       " 'www.amazon.in/Einstein-Box-Educational-Learning-Experiments/dp/B0855MGS99/ref=zg_bs_toys_2/257-8622111-9088651?_encoding=UTF8&psc=1&refRID=0RFQAZ27RFE97Y8AB4TZ',\n",
       " 'www.amazon.in/Home-Kitchen/b/?ie=UTF8&node=976442031&ref_=nav_cs_home_5f0a1657ec2a4557a8233992829feaf3',\n",
       " 'www.amazon.in/Boniry-Special-Needs-Silicone-Sensory/dp/B091MJ4R8G/ref=zg_bs_toys_10/257-8622111-9088651?_encoding=UTF8&psc=1&refRID=0RFQAZ27RFE97Y8AB4TZ',\n",
       " 'www.amazon.in/product-reviews/B08VJ58YT9/ref=zg_bs_toys_cr_27/257-8622111-9088651?ie=UTF8&refRID=0RFQAZ27RFE97Y8AB4TZ',\n",
       " 'www.amazon.in/gp/help/customer/display.html?nodeId=200534380&ref_=footer_privacy',\n",
       " 'www.amazon.in/hz/wishlist/ls?requiresSignIn=1&ref_=nav_AccountFlyout_wl',\n",
       " 'www.amazon.in/Toyshine-Geometric-Building-Stacker-Stacking/dp/B07SYJXQTR/ref=zg_bs_toys_36/257-8622111-9088651?_encoding=UTF8&psc=1&refRID=0RFQAZ27RFE97Y8AB4TZ',\n",
       " 'www.amazon.in/gp/browse.html?node=3704992031&ref_=nav_cs_hi_b183765d90844c95b998beab0377167a',\n",
       " 'www.amazon.in/product-reviews/B091MPBB51/ref=zg_bs_toys_cr_10/257-8622111-9088651?ie=UTF8&refRID=0RFQAZ27RFE97Y8AB4TZ',\n",
       " 'www.amazon.in/Toys-Games/b/?ie=UTF8&node=1350380031&ref_=nav_cs_toys_614bf387c5974fcdb69fb40fa2f95252',\n",
       " 'www.amazon.in/SUPER-TOY-Writing-Tablet-8-5Inch/dp/B07Z7QDH3D/ref=zg_bs_toys_4/257-8622111-9088651?_encoding=UTF8&psc=1&refRID=0RFQAZ27RFE97Y8AB4TZ',\n",
       " 'www.amazon.in/FunBlast-Click-Indoor-Outdoor-Girls/dp/B07NJTFVZ6/ref=zg_bs_toys_31/257-8622111-9088651?_encoding=UTF8&psc=1&refRID=0RFQAZ27RFE97Y8AB4TZ&smid=A3LH2KKDFG65UB',\n",
       " 'www.amazon.in/product-reviews/B09DYJSM55/ref=zg_bs_toys_cr_18/257-8622111-9088651?ie=UTF8&refRID=0RFQAZ27RFE97Y8AB4TZ',\n",
       " 'www.amazon.in/product-reviews/B08XJZQDXG/ref=zg_bs_toys_cr_44/257-8622111-9088651?ie=UTF8&refRID=0RFQAZ27RFE97Y8AB4TZ',\n",
       " 'www.amazon.in/gp/help/customer/display.html?nodeId=GDFU3JS5AL6SYHRD&ref_=footer_covid',\n",
       " 'www.amazon.in/computers-and-accessories/b/?ie=UTF8&node=976392031&ref_=nav_cs_pc_d99b175b1db64d5b968b67ba6e5a72a3',\n",
       " 'www.amazon.in/gp/css/order-history?ref_=nav_orders_first',\n",
       " 'www.amazon.in/now?ref=footer_amznow',\n",
       " 'www.amazon.in/product-reviews/B084ZKSD1H/ref=zg_bs_toys_cr_42/257-8622111-9088651?ie=UTF8&refRID=0RFQAZ27RFE97Y8AB4TZ',\n",
       " 'www.amazon.in/b/?node=2838698031&ld=AZINSOAYAFlyout&ref_=nav_AccountFlyout_sell',\n",
       " 'www.amazon.in/Cello-ColourUp-Celebration-Kit-Colouring/dp/B08496JMSH/ref=zg_bs_toys_7/257-8622111-9088651?_encoding=UTF8&psc=1&refRID=0RFQAZ27RFE97Y8AB4TZ',\n",
       " 'www.amazon.in/beauty/b/?ie=UTF8&node=1355016031&ref_=nav_cs_beauty_6ef19712270447e593a9ddf9a03604d8',\n",
       " 'www.amazon.in/product-reviews/B097RSJW3D/ref=zg_bs_toys_cr_12/257-8622111-9088651?ie=UTF8&refRID=0RFQAZ27RFE97Y8AB4TZ',\n",
       " 'www.amazon.in/gp/help/customer/display.html?nodeId=200545940&ref_=footer_cou',\n",
       " 'www.amazon.in/product-reviews/B07CVCN2HH/ref=zg_bs_toys_cr_32/257-8622111-9088651?ie=UTF8&refRID=0RFQAZ27RFE97Y8AB4TZ',\n",
       " 'www.amazon.in/Keychain-Sensory-Miniature-Educational-Development/dp/B097LHK57Q/ref=zg_bs_toys_20/257-8622111-9088651?_encoding=UTF8&psc=1&refRID=0RFQAZ27RFE97Y8AB4TZ',\n",
       " 'www.amazon.in/Puzzles/b/?ie=UTF8&node=1378470031&ref_=sv_t_4',\n",
       " 'www.amazon.in/Negi-3x3x3-Speed-Cube/dp/B00SIWUU2A/ref=zg_bs_toys_13/257-8622111-9088651?_encoding=UTF8&psc=1&refRID=0RFQAZ27RFE97Y8AB4TZ',\n",
       " 'www.amazon.in/b/?node=6637738031&ref_=nav_cs_amazonbasics_7b323e02d64042408aefc605ff4f5baf',\n",
       " 'www.amazon.in/Soft-Toys/b/?ie=UTF8&node=1378445031&ref_=sv_t_5',\n",
       " 'www.amazon.in/RATNAS-Wonder-Grams-Play-Smooth/dp/B07V9GG71J/ref=zg_bs_toys_35/257-8622111-9088651?_encoding=UTF8&psc=1&refRID=0RFQAZ27RFE97Y8AB4TZ',\n",
       " 'www.amazon.in/product-reviews/B07Z3CRZ61/ref=zg_bs_toys_cr_29/257-8622111-9088651?ie=UTF8&refRID=0RFQAZ27RFE97Y8AB4TZ',\n",
       " 'www.amazon.in/showroom?ref_=nav_ListFlyout_srm_your_desk_wl_in',\n",
       " 'www.amazon.in/Techhark%C2%AE-Activity-Learning-Hexagonal-Blocks/dp/B093SXBNW5/ref=zg_bs_toys_19/257-8622111-9088651?_encoding=UTF8&psc=1&refRID=0RFQAZ27RFE97Y8AB4TZ',\n",
       " 'www.amazon.in/gp/video/ssoredirect/?ie=UTF8&pvp=%2F%3Fref_%3DDVM_CRS_IN_S_GW_SWM_DK_NP_BELBOT&ref_=nav_swm_DVM_CRS_IN_S_GW_SWM_DK_NP_BELBOT&pf_rd_p=a91599bf-0889-4e0b-a958-384a9e3cd394&pf_rd_s=nav-sitewide-msg&pf_rd_t=4201&pf_rd_i=navbar-4201&pf_rd_m=A21TJRUUN4KGV&pf_rd_r=0RFQAZ27RFE97Y8AB4TZ',\n",
       " 'www.amazon.in/gp/browse.html?node=6967393031&ref_=footer_mobapp',\n",
       " 'www.amazon.in/gp/css/homepage.html?ref_=footer_ya',\n",
       " 'www.amazon.in/product-reviews/B08V8JJBSP/ref=zg_bs_toys_cr_2/257-8622111-9088651?ie=UTF8&refRID=0RFQAZ27RFE97Y8AB4TZ',\n",
       " 'www.amazon.in/product-reviews/B08G1V74XP/ref=zg_bs_toys_cr_8/257-8622111-9088651?ie=UTF8&refRID=0RFQAZ27RFE97Y8AB4TZ',\n",
       " 'www.amazon.in/product-reviews/B0927DTRT4/ref=zg_bs_toys_cr_19/257-8622111-9088651?ie=UTF8&refRID=0RFQAZ27RFE97Y8AB4TZ',\n",
       " 'www.amazon.in/Gourmet-Specialty-Foods/b/?ie=UTF8&node=2454178031&ref_=nav_cs_grocery_aaabc3a9e1214048a9a0a73dcc968167',\n",
       " 'www.amazon.in/product-reviews/B07L58XP8T/ref=zg_bs_toys_cr_48/257-8622111-9088651?ie=UTF8&refRID=0RFQAZ27RFE97Y8AB4TZ',\n",
       " 'www.amazon.in/gp/goldbox?ref_=nav_cs_gb_5bf06ae8328043a2beb2754f40a54c84',\n",
       " 'www.amazon.in/product-reviews/B091F2KDG1/ref=zg_bs_toys_cr_16/257-8622111-9088651?ie=UTF8&refRID=0RFQAZ27RFE97Y8AB4TZ',\n",
       " 'www.amazon.in/NHR-Scooter-Adjustable-Height-Foldable/dp/B096RS5MQ7/ref=zg_bs_toys_44/257-8622111-9088651?_encoding=UTF8&psc=1&refRID=0RFQAZ27RFE97Y8AB4TZ',\n",
       " 'www.amazon.in/Nerf-N-Strike-Elite-Disruptor/dp/B01IK52REI/ref=zg_bs_toys_49/257-8622111-9088651?_encoding=UTF8&psc=1&refRID=0RFQAZ27RFE97Y8AB4TZ',\n",
       " 'www.amazon.in/product-reviews/B08RC1QFC3/ref=zg_bs_toys_cr_25/257-8622111-9088651?ie=UTF8&refRID=0RFQAZ27RFE97Y8AB4TZ',\n",
       " 'www.amazon.in/discover/?ref_=nav_ListFlyout_sbl',\n",
       " 'www.amazon.in/product-reviews/B09G7DRMLC/ref=zg_bs_toys_cr_34/257-8622111-9088651?ie=UTF8&refRID=0RFQAZ27RFE97Y8AB4TZ',\n",
       " 'www.amazon.in/gcx/-/gfhz/?ref_=nav_cs_giftfinder_58f3a96b9747402884d8f629e69ebd28',\n",
       " 'www.amazon.in/Sports/b/?ie=UTF8&node=1984443031&ref_=nav_cs_sports_8a31b13c38f84bfba386a5c9d1b7615e',\n",
       " 'www.amazon.in/hz/mycd/myx?ref_=nav_AccountFlyout_myk',\n",
       " 'www.amazon.in/Babique-Ball-Rattle-Sound-Birthday/dp/B08PVYDSX1/ref=zg_bs_toys_1/257-8622111-9088651?_encoding=UTF8&psc=1&refRID=0RFQAZ27RFE97Y8AB4TZ',\n",
       " 'www.amazon.in/b/?node=2838698031&ld=AZINSOANavDesktop&ref_=nav_cs_sell_22c5725860ed46a593b5f97a935ef723',\n",
       " 'www.amazon.in/Car-Motorbike-Store/b/?ie=UTF8&node=4772060031&ref_=nav_cs_automotive_75137ca568f6495387a781885869ac30',\n",
       " 'www.amazon.in/Imagimake-Mapology-India-State-Capitals/dp/B076WQ3M5X/ref=zg_bs_toys_17/257-8622111-9088651?_encoding=UTF8&psc=1&refRID=0RFQAZ27RFE97Y8AB4TZ',\n",
       " 'www.amazon.in/gp/browse.html?node=4594605031&ref_=footer_smile',\n",
       " 'www.amazon.in/product-reviews/B07V9TF4SJ/ref=zg_bs_toys_cr_35/257-8622111-9088651?ie=UTF8&refRID=0RFQAZ27RFE97Y8AB4TZ',\n",
       " 'www.amazon.in/Luusa-RX-500-Tricycle-Parental-Control/dp/B07STNCVMQ/ref=zg_bs_toys_30/257-8622111-9088651?_encoding=UTF8&psc=1&refRID=0RFQAZ27RFE97Y8AB4TZ',\n",
       " 'www.amazon.in/product-reviews/B00XNE50Z0/ref=zg_bs_toys_cr_15/257-8622111-9088651?ie=UTF8&refRID=0RFQAZ27RFE97Y8AB4TZ',\n",
       " 'www.amazon.in/prime?ref_=nav_cs_primelink_nonmember_2860122b63884a8688052dc445e46bd9',\n",
       " 'www.amazon.in/Games/b/?ie=UTF8&node=1378311031&ref_=sv_t_3',\n",
       " 'www.amazon.in/Play-Poco-Magnetic-Alphabet-Words/dp/B07QHVWNXK/ref=zg_bs_toys_24/257-8622111-9088651?_encoding=UTF8&psc=1&refRID=0RFQAZ27RFE97Y8AB4TZ',\n",
       " 'www.amazon.in/Toyzone-Panda-Wheel-Magic-Colors/dp/B00JJJIIE8/ref=zg_bs_toys_48/257-8622111-9088651?_encoding=UTF8&psc=1&refRID=0RFQAZ27RFE97Y8AB4TZ',\n",
       " 'www.amazon.in/Peppa-Playhouse-Tent-Girls-Boys/dp/B08VJ58YT9/ref=zg_bs_toys_27/257-8622111-9088651?_encoding=UTF8&psc=1&refRID=0RFQAZ27RFE97Y8AB4TZ',\n",
       " 'www.amazon.in/product-reviews/B076WQ3M5X/ref=zg_bs_toys_cr_17/257-8622111-9088651?ie=UTF8&refRID=0RFQAZ27RFE97Y8AB4TZ',\n",
       " 'www.amazon.in/b/?node=2838698031&ld=AZINSOANavDesktopFooter&ref_=nav_footer_sell',\n",
       " 'www.amazon.in/Cubelelo-Speedcubing-Warrior-Qizheng-Stickerless/dp/B07H5L1L1R/ref=zg_bs_toys_11/257-8622111-9088651?_encoding=UTF8&psc=1&refRID=0RFQAZ27RFE97Y8AB4TZ',\n",
       " 'www.amazon.in/ref=nav_logo',\n",
       " 'www.amazon.in/auto-deliveries/landing?ref_=nav_cs_sns_c630ba0feebb4081b3e5fbd2df39d065',\n",
       " 'www.amazon.in/auto-deliveries?ref_=nav_AccountFlyout_sns',\n",
       " 'www.amazon.in/ButterflyEduFields-Alphabets-Construction-Puzzles-Teaching/dp/B08ZJGGGH2/ref=zg_bs_toys_33/257-8622111-9088651?_encoding=UTF8&psc=1&refRID=0RFQAZ27RFE97Y8AB4TZ',\n",
       " 'www.amazon.in/product-reviews/B07TFGYCQB/ref=zg_bs_toys_cr_6/257-8622111-9088651?ie=UTF8&refRID=0RFQAZ27RFE97Y8AB4TZ']"
      ]
     },
     "execution_count": 20,
     "metadata": {},
     "output_type": "execute_result"
    }
   ],
   "source": [
    "page_links"
   ]
  },
  {
   "cell_type": "code",
   "execution_count": null,
   "id": "c940e70b",
   "metadata": {},
   "outputs": [],
   "source": [
    "def scarpe_product_page(url,title_lookup=\"#productTitle\"\n",
    "price_lookup = \"#priceblock_ourprice\"):\n",
    "    driver.get(url)\n",
    "    time.sleep(0.8)\n",
    "    body_el = driver.find_element_by_css_selector(\"body\")\n",
    "    html_str = body_el.get_attribute(\"innerHTML\")\n",
    "    html_obj = HTML(html=html_str)\n",
    "    product_title = html_obj.find(title_lookup, first=True).text\n",
    "    product_price = html_obj.find(price_lookup, first=True).text\n",
    "    return product_price,product_title"
   ]
  },
  {
   "cell_type": "code",
   "execution_count": null,
   "id": "c59aa6f7",
   "metadata": {},
   "outputs": [],
   "source": []
  },
  {
   "cell_type": "code",
   "execution_count": null,
   "id": "886c4070",
   "metadata": {},
   "outputs": [],
   "source": []
  },
  {
   "cell_type": "code",
   "execution_count": null,
   "id": "4f148c20",
   "metadata": {},
   "outputs": [],
   "source": []
  },
  {
   "cell_type": "code",
   "execution_count": null,
   "id": "fa1acea6",
   "metadata": {},
   "outputs": [],
   "source": []
  }
 ],
 "metadata": {
  "kernelspec": {
   "display_name": "Python 3 (ipykernel)",
   "language": "python",
   "name": "python3"
  },
  "language_info": {
   "codemirror_mode": {
    "name": "ipython",
    "version": 3
   },
   "file_extension": ".py",
   "mimetype": "text/x-python",
   "name": "python",
   "nbconvert_exporter": "python",
   "pygments_lexer": "ipython3",
   "version": "3.7.9"
  }
 },
 "nbformat": 4,
 "nbformat_minor": 5
}
