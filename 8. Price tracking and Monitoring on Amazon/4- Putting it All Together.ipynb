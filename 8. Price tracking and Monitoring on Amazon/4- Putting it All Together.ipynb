{
 "cells": [
  {
   "cell_type": "code",
   "execution_count": 13,
   "id": "c895eea2",
   "metadata": {},
   "outputs": [],
   "source": [
    "import requests\n",
    "from requests_html import HTML\n",
    "from selenium import webdriver \n",
    "from selenium.webdriver.chrome.options import Options\n",
    "import time \n",
    "import re \n",
    "import pprint\n",
    "import datetime\n",
    "import pandas as pd \n",
    "from pathlib import Path"
   ]
  },
  {
   "cell_type": "code",
   "execution_count": 2,
   "id": "6bf5b496",
   "metadata": {},
   "outputs": [],
   "source": [
    "BASE_DIR = Path.cwd()\n",
    "DATA_DIR = BASE_DIR / \"data\"\n",
    "\n",
    "if not DATA_DIR.exists():\n",
    "    DATA_DIR.mkdir(exist_ok=True)\n",
    "    \n",
    "product_output = DATA_DIR/ \"product.csv\""
   ]
  },
  {
   "cell_type": "code",
   "execution_count": 3,
   "id": "7b40300d",
   "metadata": {},
   "outputs": [],
   "source": [
    "options = Options()\n",
    "options.add_argument(\"--headless\")\n",
    "driver = webdriver.Chrome(options = options)"
   ]
  },
  {
   "cell_type": "code",
   "execution_count": 4,
   "id": "2356d89f",
   "metadata": {},
   "outputs": [],
   "source": [
    "# list of all parent url\n",
    "categories = [\n",
    "    {\"name\":\"baby\",\"url\":\"https://www.amazon.in/gp/bestsellers/baby\"},\n",
    "    {\"name\":\"electronics\",\"url\":\"https://www.amazon.in/gp/bestsellers/electronics/\"},\n",
    "    {\"name\":\"fashion\",\"url\":\"https://www.amazon.in/gp/bestsellers/books/\"} \n",
    "]\n"
   ]
  },
  {
   "cell_type": "code",
   "execution_count": 5,
   "id": "ebcaf98b",
   "metadata": {},
   "outputs": [],
   "source": [
    "# list of all possible valid regex pattern\n",
    "regex_options = [\n",
    "    r'https://www.amazon.in/gp/product/(?P<product_id>[\\w-]+)/',\n",
    "    r'https://www.amazon.in/dp/(?P<product_id>[\\w-]+)/',\n",
    "    r'https://www.amazon.in/(?P<slug>[\\w-]+)/dp/(?P<product_id>[\\w-]+)/'\n",
    "]\n",
    "\n",
    "# extracts the product id from an url \n",
    "def extract_product_id_from_url(url):\n",
    "    product_id = None\n",
    "    for regex_str in regex_options:\n",
    "        regex = re.compile(regex_str)\n",
    "        match = regex.match(url)\n",
    "        if match != None:\n",
    "            try:\n",
    "                product_id = match['product_id']\n",
    "            except:\n",
    "                pass\n",
    "    return product_id"
   ]
  },
  {
   "cell_type": "code",
   "execution_count": 6,
   "id": "66db762b",
   "metadata": {},
   "outputs": [],
   "source": [
    "\n",
    "\n",
    "# we grab the valid product page links along with the product ids\n",
    "def clean_page_links(page_links=[]):   \n",
    "    # list of possible valid links \n",
    "#     page_links = [f\" for x in new_links]\n",
    "    final_page_links = []\n",
    "    for url in page_links:\n",
    "        product_id = extract_product_id_from_url(url)\n",
    "        if product_id != None:\n",
    "            final_page_links.append({'url':url,'product_id':product_id})\n",
    "    return final_page_links"
   ]
  },
  {
   "cell_type": "code",
   "execution_count": 7,
   "id": "8c61a8be",
   "metadata": {},
   "outputs": [],
   "source": [
    "# scarpes the required info form the product page \n",
    "def scrape_product_page(link,title_lookup = \"#productTitle\",price_lookup = \"#priceblock_ourprice\",rating_lookup=\"#acrCustomerReviewText\"):\n",
    "    driver.get(link)\n",
    "    time.sleep(1.2)\n",
    "    body_el = driver.find_element_by_css_selector(\"body\")\n",
    "    html_str = body_el.get_attribute(\"innerHTML\")\n",
    "    html_obj = HTML(html=html_str)\n",
    "    product_title = html_obj.find(title_lookup, first=True).text\n",
    "    product_price = html_obj.find(price_lookup, first=True).text\n",
    "    product_noOfRating = html_obj.find(rating_lookup,first=True).text\n",
    "    return link,product_title,product_price,product_noOfRating\n"
   ]
  },
  {
   "cell_type": "code",
   "execution_count": 9,
   "id": "373b00a3",
   "metadata": {},
   "outputs": [],
   "source": [
    "# driver loop \n",
    "def perform_scrape(cleaned_items=[]):  \n",
    "    data_extracted = []\n",
    "    for obj in cleaned_items:\n",
    "        link = obj['url']\n",
    "        product_id = obj['product_id']\n",
    "        title,price,noOfRating = (None,None,None)\n",
    "        try:\n",
    "            product_link,title,price,noOfRating = scrape_product_page(link)\n",
    "        except Exception as e:\n",
    "            pass\n",
    "        if title != None and price != None:\n",
    "            print(product_link,title,price)\n",
    "        product_data = {\n",
    "            'url':link,\n",
    "            'product_id':product_id,\n",
    "            'title':title,\n",
    "            'price':price,\n",
    "            'rating':noOfRating,\n",
    "            'timestamp':datetime.datetime.now()\n",
    "        }\n",
    "        data_extracted.append(product_data)\n",
    "    return data_extracted\n",
    "            \n",
    "# extracted_data = perform_scrape(cleaned_items=cleaned_links)"
   ]
  },
  {
   "cell_type": "code",
   "execution_count": 10,
   "id": "ca3656ab",
   "metadata": {},
   "outputs": [],
   "source": [
    "def scarpe_category_product_links(categories=[]):\n",
    "    all_product_links = []\n",
    "    for category in categories:\n",
    "        time.sleep(1.5)\n",
    "        url = category['url']\n",
    "        driver.get(url)\n",
    "        body_el = driver.find_element_by_css_selector(\"body\")\n",
    "        html_str = body_el.get_attribute(\"innerHTML\")\n",
    "        html_obj = HTML(html = html_str)\n",
    "        new_links = [f\"https://www.amazon.in{x}\" for x in html_obj.links if x.startswith(\"/\") and \"product-reviews/\" not in x]\n",
    "        cleaned_links = clean_page_links(new_links) \n",
    "        all_product_links += cleaned_links\n",
    "    return all_product_links\n",
    "\n"
   ]
  },
  {
   "cell_type": "code",
   "execution_count": 11,
   "id": "7e075cf8",
   "metadata": {},
   "outputs": [],
   "source": [
    "def abc(categories =[]):\n",
    "    all_product_links = scarpe_category_product_links(categories=categories)\n",
    "    extracted_data = perform_scrape(all_product_links)\n",
    "    return extracted_data"
   ]
  },
  {
   "cell_type": "code",
   "execution_count": null,
   "id": "3b8f7764",
   "metadata": {},
   "outputs": [
    {
     "name": "stdout",
     "output_type": "stream",
     "text": [
      "https://www.amazon.in/Pampers-Large-Diapers-Pants-Count/dp/B07CXFJT8Q/ref=zg_bs_baby_5?_encoding=UTF8&psc=1&refRID=4QNS0W32JA4R97J0K74J Pampers All round Protection Pants, Large size baby diapers (LG) 64 Count, Lotion with Aloe Vera ₹785.00\n",
      "https://www.amazon.in/Huggies-Nature-Pants-Small-Diaper/dp/B08JVK3ZRD/ref=zg_bs_baby_27?_encoding=UTF8&psc=1&refRID=4QNS0W32JA4R97J0K74J Huggies Nature Care Pants, Small (S) Size Baby Diaper Pants, 28 Count, Nature’s gentle protection with organic cotton ₹299.00\n",
      "https://www.amazon.in/Himalaya-4004G-Baby-Powder-400g/dp/B008YD57OO/ref=zg_bs_baby_49?_encoding=UTF8&psc=1&refRID=4QNS0W32JA4R97J0K74J Himalaya Baby Powder (400g) ₹171.00\n",
      "https://www.amazon.in/Himalaya-Gift-Pack/dp/B075B7WDJY/ref=zg_bs_baby_44?_encoding=UTF8&psc=1&refRID=4QNS0W32JA4R97J0K74J Himalaya Gift Pack, 1 Count ₹708.00\n",
      "https://www.amazon.in/Sebamed-Baby-Cleansing-Bar-150g/dp/B01KE8VPPG/ref=zg_bs_baby_34?_encoding=UTF8&psc=1&refRID=4QNS0W32JA4R97J0K74J Sebamed Baby Cleansing Bar (150g) ₹301.00\n",
      "https://www.amazon.in/Mee-Caring-Baby-Wipes-Aloe/dp/B00DRE0LQY/ref=zg_bs_baby_7?_encoding=UTF8&psc=1&refRID=4QNS0W32JA4R97J0K74J Mee Mee Baby Gentle Wet Wipes with Aloe Vera extracts, 72 counts, Pack of 3 ₹194.00\n",
      "https://www.amazon.in/Pampers-Premium-Care-Diapers-Count/dp/B082LDLPR9/ref=zg_bs_baby_50?_encoding=UTF8&psc=1&refRID=4QNS0W32JA4R97J0K74J Pampers Premium Care Pants, New Born, Extra Small size baby diapers (NB,XS), 70 count, Softest ever Pampers ₹689.00\n",
      "https://www.amazon.in/Himalaya-7003817-Baby-Powder-700g/dp/B07PSJW32L/ref=zg_bs_baby_24?_encoding=UTF8&psc=1&refRID=4QNS0W32JA4R97J0K74J Himalaya Baby Powder, 700g ₹252.00\n",
      "https://www.amazon.in/Bey-Bee-Waterproof-Protector-Sheet/dp/B00VZQP6PM/ref=zg_bs_baby_22?_encoding=UTF8&psc=1&refRID=4QNS0W32JA4R97J0K74J BeyBee Bed Protector Sheet (Small (50cm X 70cm), Salmon Rose) ₹139.00\n",
      "https://www.amazon.in/Nestle-Cerelac-Fortified-Cereal-Multigrain/dp/B00FPSNGDK/ref=zg_bs_baby_37?_encoding=UTF8&psc=1&refRID=4QNS0W32JA4R97J0K74J Nestlé CERELAC Baby Cereal with Milk, Multigrain & Fruits – From 12 Months, 300g BIB Pack ₹272.00\n",
      "https://www.amazon.in/Himalaya-Baby-Shampoo-400-ml/dp/B00H5NMNXC/ref=zg_bs_baby_23?_encoding=UTF8&psc=1&refRID=4QNS0W32JA4R97J0K74J Himalaya Baby Shampoo (400 ml) ₹232.00\n",
      "https://www.amazon.in/Himalaya-4003F-Baby-Lotion-400ml/dp/B008YD5500/ref=zg_bs_baby_25?_encoding=UTF8&psc=1&refRID=4QNS0W32JA4R97J0K74J Himalaya Baby Body Lotion, For All Skin Types (400 ml) ₹227.00\n",
      "https://www.amazon.in/Pampers-Diapers-Pants-Small-Count/dp/B07DP27MF4/ref=zg_bs_baby_10?_encoding=UTF8&psc=1&refRID=4QNS0W32JA4R97J0K74J Pampers All round Protection Pants, Small size baby diapers (SM) 86 Count, Lotion with Aloe Vera ₹654.00\n",
      "https://www.amazon.in/Pampers-Premium-Small-Diapers-Pants/dp/B07GQ35C62/ref=zg_bs_baby_36?_encoding=UTF8&psc=1&refRID=4QNS0W32JA4R97J0K74J Pampers Premium Care Pants, Small size baby diapers (SM), 70 Count, Softest ever Pampers pants ₹803.00\n",
      "https://www.amazon.in/Huggies-Wonder-Pants-Diapers-Extra/dp/B07M92GK39/ref=zg_bs_baby_1?_encoding=UTF8&psc=1&refRID=4QNS0W32JA4R97J0K74J Huggies Wonder Pants Extra Large (XL) Size Baby Diaper Pants, with Bubble Bed Technology for comfort, (12.0 kg - 17.0 kg) (56 count) ₹781.00\n",
      "https://www.amazon.in/Huggies-Premium-Pants-Extra-diaper/dp/B0866L2DS3/ref=zg_bs_baby_29?_encoding=UTF8&psc=1&refRID=4QNS0W32JA4R97J0K74J Huggies Premium Soft Pants, Extra Small / New Born (XS / NB) size newborn baby diaper pants, 20 count ₹154.00\n",
      "https://www.amazon.in/Mamaearth-Percent-Natural-Berry-Toothpaste/dp/B07BGT4J55/ref=zg_bs_baby_42?_encoding=UTF8&psc=1&refRID=4QNS0W32JA4R97J0K74J Mamaearth 100% Natural Berry Blast Kids Toothpaste 50 Gm, Fluoride Free, SLS Free, No Artificial Flavours, Best for baby ₹124.00\n",
      "https://www.amazon.in/Huggies-Large-Size-Diapers-Counts/dp/B01EAFLG2G/ref=zg_bs_baby_28?_encoding=UTF8&psc=1&refRID=4QNS0W32JA4R97J0K74J Huggies New Dry Large Size Diapers (52 Counts) ₹553.00\n",
      "https://www.amazon.in/Pampers-Diapers-Pants-X-Small-Count/dp/B07DP27JKB/ref=zg_bs_baby_19?_encoding=UTF8&psc=1&refRID=4QNS0W32JA4R97J0K74J Pampers All round Protection Pants, New Born, Extra Small size baby diapers (NB,XS) 86 Count, Lotion with Aloe Vera ₹671.00\n",
      "https://www.amazon.in/Pampers-New-Diapers-Pants-Count/dp/B07CXGJKXL/ref=zg_bs_baby_4?_encoding=UTF8&psc=1&refRID=4QNS0W32JA4R97J0K74J Pampers All round Protection Pants, Extra Large size baby diapers (XL) 56 Count, Lotion with Aloe Vera ₹851.00\n",
      "https://www.amazon.in/Pampers-Diapers-Pants-Medium-Count/dp/B07DP24NSR/ref=zg_bs_baby_8?_encoding=UTF8&psc=1&refRID=4QNS0W32JA4R97J0K74J Pampers All round Protection Pants, Medium size baby diapers (MD) 76 Count, Lotion with Aloe Vera ₹778.00\n",
      "https://www.amazon.in/Pampers-Active-Diapers-Small-Count/dp/B081QTNF7V/ref=zg_bs_baby_45?_encoding=UTF8&psc=1&refRID=4QNS0W32JA4R97J0K74J Pampers Active Baby Taped Diapers, Small size diapers, (SM) 92 count, taped style custom fit ₹1,349.00\n",
      "https://www.amazon.in/Himalaya-Gentle-Baby-Bath-400ml/dp/B01N32GD33/ref=zg_bs_baby_26?_encoding=UTF8&psc=1&refRID=4QNS0W32JA4R97J0K74J Himalaya Gentle Baby Wash (400ml) ₹232.00\n",
      "https://www.amazon.in/MamyPoko-Pants-Standard-Style-Diapers/dp/B00KAUFEEM/ref=zg_bs_baby_13?_encoding=UTF8&psc=1&refRID=4QNS0W32JA4R97J0K74J MamyPoko Pants Standard Baby Diapers, Small (4 - 8 kg) 46 Count ₹339.00\n",
      "https://www.amazon.in/Pampers-Premium-Care-Diapers-Monthly/dp/B07F2HMCQ2/ref=zg_bs_baby_18?_encoding=UTF8&psc=1&refRID=4QNS0W32JA4R97J0K74J Pampers Premium Care Pants, Extra Large size baby diapers (XL), 72 Count, Softest ever Pampers pants ₹1,655.00\n",
      "https://www.amazon.in/Pampers-Active-Large-Diapers-Count/dp/B077HV19LS/ref=zg_bs_baby_43?_encoding=UTF8&psc=1&refRID=4QNS0W32JA4R97J0K74J Pampers Active Baby Taped Diapers, Large size diapers, (LG) 78 count, taped style custom fit ₹1,394.00\n",
      "https://www.amazon.in/Sebamed-Baby-Wash-Extra-400Ml/dp/B00VFJWGCA/ref=zg_bs_baby_31?_encoding=UTF8&psc=1&refRID=4QNS0W32JA4R97J0K74J Sebamed Baby GENTAL WASH 400ML ₹640.00\n",
      "https://www.amazon.in/Littles-Diapers-Wetness-Indicator-Absorption/dp/B08J126QF9/ref=zg_bs_baby_12?_encoding=UTF8&psc=1&refRID=4QNS0W32JA4R97J0K74J Little's Baby Pants Diapers with Wetness Indicator and 12 Hours Absorption, Large (L), 9-14 kg, 60 Count ₹586.00\n",
      "https://www.amazon.in/LuvLap-Paraben-Free-Wipes-Fliptop/dp/B0817S14MZ/ref=zg_bs_baby_15?_encoding=UTF8&psc=1&refRID=4QNS0W32JA4R97J0K74J LuvLap Paraben Free Baby Wipes with Aloe Vera, with Fliptop Lid (72 Wipes/Pack, Pack of 3) ₹237.00\n",
      "https://www.amazon.in/Himalaya-Baby-Massage-Oil-500ml/dp/B00NOKRPD8/ref=zg_bs_baby_39?_encoding=UTF8&psc=1&refRID=4QNS0W32JA4R97J0K74J Himalaya Face Body Oil Baby Massage Oil For All Skin Types (500 ML) ₹322.00\n",
      "https://www.amazon.in/Papimo-Pants-Diapers-Medium-Count/dp/B086N5L728/ref=zg_bs_baby_32?_encoding=UTF8&psc=1&refRID=4QNS0W32JA4R97J0K74J Papimo Baby Pants Diapers with Aloe Vera, Medium (7 - 12 kg), 76 Count ₹719.00\n",
      "https://www.amazon.in/Mamaearth-Moisturizing-Baby-Bathing-Oatmeal/dp/B07Q2B5Z9D/ref=zg_bs_baby_40?_encoding=UTF8&psc=1&refRID=4QNS0W32JA4R97J0K74J Mamaearth Moisturizing Baby Bathing Soap Bar, pH 5.5, with Goat Milk & Oatmeal. Pack of 2, 75gms each ₹170.00\n",
      "https://www.amazon.in/Huggies-Pants-Small-Diapers-Count/dp/B083F8DBNH/ref=zg_bs_baby_38?_encoding=UTF8&psc=1&refRID=4QNS0W32JA4R97J0K74J Huggies Dry Pants, Small (S) Size Baby Diaper Pants, 36 count, with Bubble Bed Technology for comfort ₹279.00\n",
      "https://www.amazon.in/Pampers-Diapers-Pants-XX-Large-Count/dp/B07P226KH4/ref=zg_bs_baby_14?_encoding=UTF8&psc=1&refRID=4QNS0W32JA4R97J0K74J Pampers All round Protection Pants, Double Extra Large size baby diapers (XXL) 28 Count, Lotion with Aloe Vera ₹587.00\n",
      "https://www.amazon.in/Pampers-Premium-Care-Diapers-Medium/dp/B07F2X8BHM/ref=zg_bs_baby_20?_encoding=UTF8&psc=1&refRID=4QNS0W32JA4R97J0K74J Pampers Premium Care Pants, Medium size baby diapers (MD), 54 Count, Softest ever Pampers pants ₹839.00\n",
      "https://www.amazon.in/TEDIBAR-TDB5-Tedibar-2s-Pack/dp/B07ZJVXRCW/ref=zg_bs_baby_35?_encoding=UTF8&psc=1&refRID=4QNS0W32JA4R97J0K74J Tedibar Baby Bathing Bar | For Baby’s Sensitive Skin | Gentle Cleansing, Skin-friendly, pH 5.5, 75gm, Pack of 2 ₹235.00\n",
      "https://www.amazon.in/Himalaya-Baby-Cream-200ml/dp/B00QGEN6C8/ref=zg_bs_baby_41?_encoding=UTF8&psc=1&refRID=4QNS0W32JA4R97J0K74J Himalaya Baby Cream, Face Moisturizer & Day Cream, For Dry Skin 200ml ₹187.00\n"
     ]
    },
    {
     "name": "stdout",
     "output_type": "stream",
     "text": [
      "https://www.amazon.in/Pampers-Premium-Care-Diapers-Monthly/dp/B07FHD5WNB/ref=zg_bs_baby_17?_encoding=UTF8&psc=1&refRID=4QNS0W32JA4R97J0K74J Pampers Premium Care Pants, Large size baby diapers (LG), 88 Count, Softest ever Pampers pants ₹1,655.00\n",
      "https://www.amazon.in/SebaMed-Sebamed-Baby-Lotion-400ml/dp/B00VEEHIEM/ref=zg_bs_baby_33?_encoding=UTF8&psc=1&refRID=4QNS0W32JA4R97J0K74J SebaMed Baby Body Lotion, For All Skin Types, 400 ml ₹868.00\n",
      "https://www.amazon.in/Pampers-Premium-Care-Pants-Diapers/dp/B082LF4L7X/ref=zg_bs_baby_30?_encoding=UTF8&psc=1&refRID=4QNS0W32JA4R97J0K74J Pampers Premium Care Pants, Double Extra Large size baby diapers (XXL), 60 Count, Softest ever Pampers pants ₹1,678.00\n",
      "https://www.amazon.in/Himalaya-Total-Pants-Diapers-Large/dp/B07MBYCL5Z/ref=zg_bs_baby_9?_encoding=UTF8&psc=1&refRID=4QNS0W32JA4R97J0K74J Himalaya Total Care Baby Pants Diapers, Extra Large (12 - 17 kg), 74 Count ₹831.00\n",
      "https://www.amazon.in/Himalaya-gentle-Wipes-72Napkins-packs/dp/B017VOMJ6A/ref=zg_bs_baby_16?_encoding=UTF8&psc=1&refRID=4QNS0W32JA4R97J0K74J Himalaya Gentle Baby Wipes - 72 Pieces (Pack of 2) ₹260.00\n",
      "https://www.amazon.in/Dabur-Lal-Tail-500-ml/dp/B00HVSRN8G/ref=zg_bs_baby_47?_encoding=UTF8&psc=1&refRID=4QNS0W32JA4R97J0K74J Dabur Lal Tail : Ayurvedic Baby Massage Oil – 500ml|Clinically Tested 2x Faster Physical Growth for Stronger Bones and Muscles ₹262.00\n"
     ]
    }
   ],
   "source": [
    "extracted_data = abc(categories)\n",
    "all_product_df = pd.DataFrame(extracted_data)\n",
    "all_product_df.to_csv(product_output,index = False)"
   ]
  },
  {
   "cell_type": "code",
   "execution_count": null,
   "id": "70930ea7",
   "metadata": {},
   "outputs": [],
   "source": [
    "pprint.pprint(extracted_data)"
   ]
  },
  {
   "cell_type": "code",
   "execution_count": null,
   "id": "093d7827",
   "metadata": {},
   "outputs": [],
   "source": [
    "# len(All_page_links)"
   ]
  }
 ],
 "metadata": {
  "kernelspec": {
   "display_name": "Python 3 (ipykernel)",
   "language": "python",
   "name": "python3"
  },
  "language_info": {
   "codemirror_mode": {
    "name": "ipython",
    "version": 3
   },
   "file_extension": ".py",
   "mimetype": "text/x-python",
   "name": "python",
   "nbconvert_exporter": "python",
   "pygments_lexer": "ipython3",
   "version": "3.7.9"
  }
 },
 "nbformat": 4,
 "nbformat_minor": 5
}
