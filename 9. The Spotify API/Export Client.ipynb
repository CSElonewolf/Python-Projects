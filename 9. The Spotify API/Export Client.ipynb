{
 "cells": [
  {
   "cell_type": "code",
   "execution_count": 1,
   "id": "eb75afb9",
   "metadata": {},
   "outputs": [
    {
     "name": "stderr",
     "output_type": "stream",
     "text": [
      "c:\\python37.9\\lib\\site-packages\\traitlets\\traitlets.py:2205: FutureWarning: Supporting extra quotes around strings is deprecated in traitlets 5.0. You can use './client' instead of \"'./client'\" if you require traitlets >=5.\n",
      "  FutureWarning)\n",
      "[NbConvertApp] Converting notebook 5- Robust Query Search.ipynb to python\n",
      "[NbConvertApp] Writing 4741 bytes to client\\5- Robust Query Search.py\n"
     ]
    }
   ],
   "source": [
    "!jupyter nbconvert --to python --output-dir='./client' \"5- Robust Query Search.ipynb\""
   ]
  }
 ],
 "metadata": {
  "kernelspec": {
   "display_name": "Python 3 (ipykernel)",
   "language": "python",
   "name": "python3"
  },
  "language_info": {
   "codemirror_mode": {
    "name": "ipython",
    "version": 3
   },
   "file_extension": ".py",
   "mimetype": "text/x-python",
   "name": "python",
   "nbconvert_exporter": "python",
   "pygments_lexer": "ipython3",
   "version": "3.7.9"
  }
 },
 "nbformat": 4,
 "nbformat_minor": 5
}
