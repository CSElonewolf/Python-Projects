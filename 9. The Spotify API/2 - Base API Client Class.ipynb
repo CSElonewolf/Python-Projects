{
 "cells": [
  {
   "cell_type": "code",
   "execution_count": 1,
   "id": "52930039",
   "metadata": {},
   "outputs": [],
   "source": [
    "import base64\n",
    "import os \n",
    "import requests\n",
    "import datetime "
   ]
  },
  {
   "cell_type": "code",
   "execution_count": 2,
   "id": "1a5023ba",
   "metadata": {},
   "outputs": [],
   "source": [
    "client_id = \"b1f767d933f14dacab7f4062891921bb\"\n",
    "client_secret = \"9207250566db44009edf27ca30c1caf3\"\n"
   ]
  },
  {
   "cell_type": "code",
   "execution_count": 24,
   "id": "7795913d",
   "metadata": {},
   "outputs": [],
   "source": [
    "class SpotifyAPI(object):\n",
    "    access_token = None;\n",
    "    access_token_expires = datetime.datetime.now()\n",
    "    access_token_did_expires = True\n",
    "    client_id = None\n",
    "    client_secret = None\n",
    "    token_url = \"https://accounts.spotify.com/api/token\"\n",
    "    \n",
    "    def __init__(self,client_id,client_secret):\n",
    "        super().__init__()\n",
    "        self.client_id = client_id\n",
    "        self.client_secret = client_secret\n",
    "    \n",
    "    def get_client_credentials(self):\n",
    "        \"\"\"\n",
    "        Returns A base64 encoded string\n",
    "        \"\"\"\n",
    "        client_id = self.client_id\n",
    "        client_secret = self.client_secret\n",
    "        if client_secret == None or client_id == None:\n",
    "            raise Exception(\"You must set the client_id and client_secret\")\n",
    "        client_creds = f\"{client_id}:{client_secret}\"\n",
    "        client_creds_b64 = base64.b64encode(client_creds.encode())\n",
    "        return client_creds_b64.decode()\n",
    "        \n",
    "    def get_token_headers(self):   \n",
    "        client_creds_b64 = self.get_client_credentials()\n",
    "        return {\n",
    "        'Authorization':f\"Basic {client_creds_b64}\"\n",
    "        }\n",
    "    \n",
    "    \n",
    "    def get_token_data(self):\n",
    "        return {\n",
    "            'grant_type':\"client_credentials\"\n",
    "        }\n",
    "    def perform_auth(self):\n",
    "        token_url = self.token_url\n",
    "        token_data = self.get_token_data()\n",
    "        token_header = self.get_token_headers()\n",
    "        r = requests.post(token_url,data = token_data,headers = token_header)\n",
    "        print(r.json())\n",
    "        if r.status_code not in range(200,299):\n",
    "            return False\n",
    "        data = r.json()\n",
    "        now = datetime.datetime.now()\n",
    "        access_token = data['access_token']\n",
    "        expires_in = data['expires_in']\n",
    "        expires = now + datetime.timedelta(seconds = expires_in)\n",
    "        self.access_token = access_token\n",
    "        self.access_token_expires = expires\n",
    "        self.access_token_did_expires = expires <  now\n",
    "        return True\n",
    "\n",
    "    "
   ]
  },
  {
   "cell_type": "code",
   "execution_count": 26,
   "id": "22d2ff98",
   "metadata": {},
   "outputs": [
    {
     "name": "stdout",
     "output_type": "stream",
     "text": [
      "{'access_token': 'BQDEggkKW28QeYsqKcsE7opCQ46YF48VGL-yKBg6asuG17BoBneWiuY-y54_sT5oGMLUb28uOQsrV85eqiw', 'token_type': 'Bearer', 'expires_in': 3600}\n",
      "2021-10-01 14:13:20.073829\n",
      "2021-10-01 14:13:20.073829\n"
     ]
    }
   ],
   "source": [
    "spotify = SpotifyAPI(client_id,client_secret)\n",
    "spotify.perform_auth()\n",
    "\n",
    "print(spotify.access_token_expires)"
   ]
  },
  {
   "cell_type": "code",
   "execution_count": 7,
   "id": "32ff8dcf",
   "metadata": {},
   "outputs": [
    {
     "name": "stdout",
     "output_type": "stream",
     "text": [
      "BQDW1WNO4L1yFg8YJuD0x-pEltywGH-3Bz6GlHD0Y6obiJ0dlY1UjzFN6llSK8_HH_l-KhAmFj-2sEaeiUA\n"
     ]
    }
   ],
   "source": [
    "print(spotify.access_token)"
   ]
  },
  {
   "cell_type": "code",
   "execution_count": null,
   "id": "52b0cc56",
   "metadata": {},
   "outputs": [],
   "source": []
  },
  {
   "cell_type": "code",
   "execution_count": null,
   "id": "f34730b9",
   "metadata": {},
   "outputs": [],
   "source": []
  }
 ],
 "metadata": {
  "kernelspec": {
   "display_name": "Python 3 (ipykernel)",
   "language": "python",
   "name": "python3"
  },
  "language_info": {
   "codemirror_mode": {
    "name": "ipython",
    "version": 3
   },
   "file_extension": ".py",
   "mimetype": "text/x-python",
   "name": "python",
   "nbconvert_exporter": "python",
   "pygments_lexer": "ipython3",
   "version": "3.7.9"
  }
 },
 "nbformat": 4,
 "nbformat_minor": 5
}
