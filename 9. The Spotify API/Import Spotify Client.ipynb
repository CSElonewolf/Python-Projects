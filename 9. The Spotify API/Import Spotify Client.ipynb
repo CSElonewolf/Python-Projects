{
 "cells": [
  {
   "cell_type": "code",
   "execution_count": 4,
   "id": "57bc0ba8",
   "metadata": {},
   "outputs": [],
   "source": [
    "from spotify_cilent import *"
   ]
  },
  {
   "cell_type": "code",
   "execution_count": 5,
   "id": "0495f504",
   "metadata": {},
   "outputs": [],
   "source": [
    "client_id = \"b1f767d933f14dacab7f4062891921bb\"\n",
    "client_secret = \"9207250566db44009edf27ca30c1caf3\"\n"
   ]
  },
  {
   "cell_type": "code",
   "execution_count": 6,
   "id": "c91fb684",
   "metadata": {},
   "outputs": [],
   "source": [
    "spotify = SpotifyAPI(client_id,client_secret)"
   ]
  },
  {
   "cell_type": "code",
   "execution_count": 13,
   "id": "0be3dc4f",
   "metadata": {},
   "outputs": [
    {
     "name": "stdout",
     "output_type": "stream",
     "text": [
      "q=artist%3AKingNOTKing+Von&type=track\n"
     ]
    },
    {
     "data": {
      "text/plain": [
       "{'tracks': {'href': 'https://api.spotify.com/v1/search?query=artist%3AKingNOTKing+Von&type=track&offset=0&limit=20',\n",
       "  'items': [],\n",
       "  'limit': 20,\n",
       "  'next': None,\n",
       "  'offset': 0,\n",
       "  'previous': None,\n",
       "  'total': 0}}"
      ]
     },
     "execution_count": 13,
     "metadata": {},
     "output_type": "execute_result"
    }
   ],
   "source": [
    "spotify.search({\"artist\":\"King\"},operator=\"NOT\",operator_query=\"King Von\",search_type=\"track\")"
   ]
  }
 ],
 "metadata": {
  "kernelspec": {
   "display_name": "Python 3 (ipykernel)",
   "language": "python",
   "name": "python3"
  },
  "language_info": {
   "codemirror_mode": {
    "name": "ipython",
    "version": 3
   },
   "file_extension": ".py",
   "mimetype": "text/x-python",
   "name": "python",
   "nbconvert_exporter": "python",
   "pygments_lexer": "ipython3",
   "version": "3.7.9"
  }
 },
 "nbformat": 4,
 "nbformat_minor": 5
}
